{
 "cells": [
  {
   "cell_type": "code",
   "execution_count": 1,
   "metadata": {},
   "outputs": [],
   "source": [
    "import pandas as pd\n",
    "import numpy as np\n",
    "import networkx as nx\n",
    "import matplotlib.pyplot as plt\n",
    "import seaborn as sns\n",
    "import gc\n",
    "import pickle"
   ]
  },
  {
   "cell_type": "markdown",
   "metadata": {},
   "source": [
    "## Milan"
   ]
  },
  {
   "cell_type": "markdown",
   "metadata": {},
   "source": [
    "### Week 1"
   ]
  },
  {
   "cell_type": "code",
   "execution_count": 2,
   "metadata": {},
   "outputs": [
    {
     "name": "stdout",
     "output_type": "stream",
     "text": [
      "(76921477, 3)\n"
     ]
    },
    {
     "data": {
      "text/html": [
       "<div>\n",
       "<style scoped>\n",
       "    .dataframe tbody tr th:only-of-type {\n",
       "        vertical-align: middle;\n",
       "    }\n",
       "\n",
       "    .dataframe tbody tr th {\n",
       "        vertical-align: top;\n",
       "    }\n",
       "\n",
       "    .dataframe thead th {\n",
       "        text-align: right;\n",
       "    }\n",
       "</style>\n",
       "<table border=\"1\" class=\"dataframe\">\n",
       "  <thead>\n",
       "    <tr style=\"text-align: right;\">\n",
       "      <th></th>\n",
       "      <th>square_id1</th>\n",
       "      <th>square_id2</th>\n",
       "      <th>strength</th>\n",
       "    </tr>\n",
       "  </thead>\n",
       "  <tbody>\n",
       "    <tr>\n",
       "      <th>0</th>\n",
       "      <td>1</td>\n",
       "      <td>1</td>\n",
       "      <td>0.100214</td>\n",
       "    </tr>\n",
       "    <tr>\n",
       "      <th>1</th>\n",
       "      <td>1</td>\n",
       "      <td>2</td>\n",
       "      <td>0.102496</td>\n",
       "    </tr>\n",
       "    <tr>\n",
       "      <th>2</th>\n",
       "      <td>1</td>\n",
       "      <td>3</td>\n",
       "      <td>0.104924</td>\n",
       "    </tr>\n",
       "    <tr>\n",
       "      <th>3</th>\n",
       "      <td>1</td>\n",
       "      <td>4</td>\n",
       "      <td>0.093607</td>\n",
       "    </tr>\n",
       "    <tr>\n",
       "      <th>4</th>\n",
       "      <td>1</td>\n",
       "      <td>5</td>\n",
       "      <td>0.086226</td>\n",
       "    </tr>\n",
       "  </tbody>\n",
       "</table>\n",
       "</div>"
      ],
      "text/plain": [
       "   square_id1  square_id2  strength\n",
       "0           1           1  0.100214\n",
       "1           1           2  0.102496\n",
       "2           1           3  0.104924\n",
       "3           1           4  0.093607\n",
       "4           1           5  0.086226"
      ]
     },
     "execution_count": 2,
     "metadata": {},
     "output_type": "execute_result"
    }
   ],
   "source": [
    "week = 1\n",
    "city = 'mi'\n",
    "max_id = 10000\n",
    "data = pd.read_csv(f'../data/{city}_to_{city}/{city}_to_{city}_week{week}.csv')\n",
    "print(data.shape)\n",
    "data.head()"
   ]
  },
  {
   "cell_type": "code",
   "execution_count": 3,
   "metadata": {},
   "outputs": [],
   "source": [
    "with open(f'hotspots_{city}.pkl', 'rb') as file:\n",
    "    hotspots = pickle.load(file)"
   ]
  },
  {
   "cell_type": "markdown",
   "metadata": {},
   "source": [
    "#### Degree Centrality Uncleaned"
   ]
  },
  {
   "cell_type": "code",
   "execution_count": 4,
   "metadata": {},
   "outputs": [],
   "source": [
    "degree_centralities = list()\n",
    "for hp in hotspots:\n",
    "    degree_centralities.append(data[(data.square_id1 == hp) &  \n",
    "                                    (~(data.square_id2 == hp))].strength.sum())"
   ]
  },
  {
   "cell_type": "code",
   "execution_count": 5,
   "metadata": {},
   "outputs": [
    {
     "data": {
      "image/png": "[encoded data removed]",
      "text/plain": [
       "<Figure size 504x360 with 1 Axes>"
      ]
     },
     "metadata": {
      "needs_background": "light"
     },
     "output_type": "display_data"
    }
   ],
   "source": [
    "plt.figure(figsize=(7,5))\n",
    "plt.title('Degree Centrality')\n",
    "plt.bar(range(len(degree_centralities)), degree_centralities)\n",
    "plt.xticks(range(len(degree_centralities)), hotspots, rotation=45)\n",
    "plt.savefig(f'../plots/degree_centrality_{city}_week{week}_uncleaned.png')"
   ]
  },
  {
   "cell_type": "markdown",
   "metadata": {},
   "source": [
    "#### Cleaning Data"
   ]
  },
  {
   "cell_type": "code",
   "execution_count": 6,
   "metadata": {},
   "outputs": [
    {
     "name": "stdout",
     "output_type": "stream",
     "text": [
      "(400, 3)\n"
     ]
    },
    {
     "data": {
      "text/html": [
       "<div>\n",
       "<style scoped>\n",
       "    .dataframe tbody tr th:only-of-type {\n",
       "        vertical-align: middle;\n",
       "    }\n",
       "\n",
       "    .dataframe tbody tr th {\n",
       "        vertical-align: top;\n",
       "    }\n",
       "\n",
       "    .dataframe thead th {\n",
       "        text-align: right;\n",
       "    }\n",
       "</style>\n",
       "<table border=\"1\" class=\"dataframe\">\n",
       "  <thead>\n",
       "    <tr style=\"text-align: right;\">\n",
       "      <th></th>\n",
       "      <th>square_id1</th>\n",
       "      <th>square_id2</th>\n",
       "      <th>strength</th>\n",
       "    </tr>\n",
       "  </thead>\n",
       "  <tbody>\n",
       "    <tr>\n",
       "      <th>34871181</th>\n",
       "      <td>4459</td>\n",
       "      <td>4459</td>\n",
       "      <td>132.164749</td>\n",
       "    </tr>\n",
       "    <tr>\n",
       "      <th>34871500</th>\n",
       "      <td>4459</td>\n",
       "      <td>4855</td>\n",
       "      <td>3.541178</td>\n",
       "    </tr>\n",
       "    <tr>\n",
       "      <th>34871501</th>\n",
       "      <td>4459</td>\n",
       "      <td>4856</td>\n",
       "      <td>3.915375</td>\n",
       "    </tr>\n",
       "    <tr>\n",
       "      <th>34871502</th>\n",
       "      <td>4459</td>\n",
       "      <td>4857</td>\n",
       "      <td>4.128006</td>\n",
       "    </tr>\n",
       "    <tr>\n",
       "      <th>34871589</th>\n",
       "      <td>4459</td>\n",
       "      <td>4955</td>\n",
       "      <td>2.349062</td>\n",
       "    </tr>\n",
       "  </tbody>\n",
       "</table>\n",
       "</div>"
      ],
      "text/plain": [
       "          square_id1  square_id2    strength\n",
       "34871181        4459        4459  132.164749\n",
       "34871500        4459        4855    3.541178\n",
       "34871501        4459        4856    3.915375\n",
       "34871502        4459        4857    4.128006\n",
       "34871589        4459        4955    2.349062"
      ]
     },
     "execution_count": 6,
     "metadata": {},
     "output_type": "execute_result"
    }
   ],
   "source": [
    "data_cleaned = data[(data.square_id1.isin(hotspots)) & \n",
    "                    (data.square_id2.isin(hotspots))]\n",
    "print(data_cleaned.shape)\n",
    "data_cleaned.head()"
   ]
  },
  {
   "cell_type": "markdown",
   "metadata": {},
   "source": [
    "#### Degree Centrality Clean"
   ]
  },
  {
   "cell_type": "code",
   "execution_count": 7,
   "metadata": {},
   "outputs": [],
   "source": [
    "degree_centralities = list()\n",
    "for hp in hotspots:\n",
    "    degree_centralities.append(data_cleaned[(data_cleaned.square_id1 == hp) &  \n",
    "                                            (~(data_cleaned.square_id2 == hp))].strength.sum())"
   ]
  },
  {
   "cell_type": "code",
   "execution_count": 8,
   "metadata": {},
   "outputs": [
    {
     "data": {
      "image/png": "[encoded data removed]",
      "text/plain": [
       "<Figure size 504x360 with 1 Axes>"
      ]
     },
     "metadata": {
      "needs_background": "light"
     },
     "output_type": "display_data"
    }
   ],
   "source": [
    "plt.figure(figsize=(7,5))\n",
    "plt.title('Degree Centrality')\n",
    "plt.bar(range(len(degree_centralities)), degree_centralities)\n",
    "plt.xticks(range(len(degree_centralities)), hotspots, rotation=45)\n",
    "plt.savefig(f'../plots/degree_centrality_{city}_week{week}.png')"
   ]
  },
  {
   "cell_type": "markdown",
   "metadata": {},
   "source": [
    "#### Building Graph"
   ]
  },
  {
   "cell_type": "code",
   "execution_count": 9,
   "metadata": {},
   "outputs": [],
   "source": [
    "G = nx.DiGraph()"
   ]
  },
  {
   "cell_type": "code",
   "execution_count": 10,
   "metadata": {},
   "outputs": [],
   "source": [
    "for row in data_cleaned.values:\n",
    "    G.add_edge(row[0], row[1], strength=row[2])"
   ]
  },
  {
   "cell_type": "markdown",
   "metadata": {},
   "source": [
    "#### Closeness Centrality"
   ]
  },
  {
   "cell_type": "code",
   "execution_count": 16,
   "metadata": {},
   "outputs": [],
   "source": [
    "closeness_centralities = list()\n",
    "for hp in hotspots:\n",
    "    cc = nx.closeness_centrality(G, hp, distance='strength') / 19\n",
    "    closeness_centralities.append(cc)"
   ]
  },
  {
   "cell_type": "code",
   "execution_count": 17,
   "metadata": {},
   "outputs": [
    {
     "data": {
      "image/png": "[encoded data removed]",
      "text/plain": [
       "<Figure size 504x360 with 1 Axes>"
      ]
     },
     "metadata": {
      "needs_background": "light"
     },
     "output_type": "display_data"
    }
   ],
   "source": [
    "plt.figure(figsize=(7,5))\n",
    "plt.title('Closeness Centrality')\n",
    "plt.bar(range(len(closeness_centralities)), closeness_centralities)\n",
    "plt.xticks(range(len(closeness_centralities)), hotspots, rotation=45)\n",
    "plt.savefig(f'../plots/closeness_centrality_{city}_week{week}.png')"
   ]
  },
  {
   "cell_type": "markdown",
   "metadata": {},
   "source": [
    "#### Betweenness Centrality"
   ]
  },
  {
   "cell_type": "code",
   "execution_count": 26,
   "metadata": {},
   "outputs": [],
   "source": [
    "betweenness_centrality = nx.betweenness_centrality(G, normalized=False, weight='strength')"
   ]
  },
  {
   "cell_type": "code",
   "execution_count": 31,
   "metadata": {},
   "outputs": [
    {
     "data": {
      "image/png": "[encoded data removed]",
      "text/plain": [
       "<Figure size 504x360 with 1 Axes>"
      ]
     },
     "metadata": {
      "needs_background": "light"
     },
     "output_type": "display_data"
    }
   ],
   "source": [
    "plt.figure(figsize=(7,5))\n",
    "plt.title('Betweenness Centrality')\n",
    "plt.bar(range(len(betweenness_centrality)), betweenness_centrality.values())\n",
    "plt.xticks(range(len(betweenness_centrality)), [int(x) for x in betweenness_centrality.keys()], rotation=45)\n",
    "plt.savefig(f'../plots/betweenness_centrality_{city}_week{week}.png')"
   ]
  },
  {
   "cell_type": "markdown",
   "metadata": {},
   "source": [
    "#### PageRank Centrality"
   ]
  },
  {
   "cell_type": "code",
   "execution_count": 40,
   "metadata": {},
   "outputs": [
    {
     "data": {
      "text/plain": [
       "{4459.0: 0.03134381623458477,\n",
       " 4855.0: 0.04701727060554396,\n",
       " 4856.0: 0.048834637468949456,\n",
       " 4857.0: 0.04077941777478249,\n",
       " 4955.0: 0.03447250136798406,\n",
       " 4956.0: 0.038602578994271025,\n",
       " 4961.0: 0.03064805591623941,\n",
       " 5059.0: 0.0806181375713497,\n",
       " 5061.0: 0.048967991009215735,\n",
       " 5159.0: 0.08317851112666542,\n",
       " 5161.0: 0.06788509973164339,\n",
       " 5162.0: 0.042975195666899745,\n",
       " 5256.0: 0.041738062565519624,\n",
       " 5258.0: 0.043964521579032106,\n",
       " 5259.0: 0.08782563388524474,\n",
       " 5262.0: 0.05215076697413433,\n",
       " 5758.0: 0.03867205131981789,\n",
       " 5857.0: 0.03256045554338031,\n",
       " 6058.0: 0.056988086937723496,\n",
       " 6064.0: 0.05077720772701839}"
      ]
     },
     "execution_count": 40,
     "metadata": {},
     "output_type": "execute_result"
    }
   ],
   "source": [
    "pagerank_centrality = nx.pagerank(G, weight='strength')\n",
    "pagerank_centrality"
   ]
  },
  {
   "cell_type": "code",
   "execution_count": 41,
   "metadata": {},
   "outputs": [
    {
     "data": {
      "image/png": "[encoded data removed]",
      "text/plain": [
       "<Figure size 504x360 with 1 Axes>"
      ]
     },
     "metadata": {
      "needs_background": "light"
     },
     "output_type": "display_data"
    }
   ],
   "source": [
    "plt.figure(figsize=(7,5))\n",
    "plt.title('PageRank Centrality')\n",
    "plt.bar(range(len(pagerank_centrality)), pagerank_centrality.values())\n",
    "plt.xticks(range(len(pagerank_centrality)), [int(x) for x in pagerank_centrality.keys()], rotation=45)\n",
    "plt.savefig(f'../plots/pagerank_centrality_{city}_week{week}.png')"
   ]
  },
  {
   "cell_type": "markdown",
   "metadata": {},
   "source": [
    "#### Eigenvector Centrality"
   ]
  },
  {
   "cell_type": "code",
   "execution_count": 42,
   "metadata": {
    "scrolled": true
   },
   "outputs": [
    {
     "data": {
      "text/plain": [
       "{4459.0: 0.011720355447449784,\n",
       " 4855.0: 0.03099035801324897,\n",
       " 4856.0: 0.03337120891150712,\n",
       " 4857.0: 0.03378966627182832,\n",
       " 4955.0: 0.01717468798817922,\n",
       " 4956.0: 0.022472141124703093,\n",
       " 4961.0: 0.04275308168329365,\n",
       " 5059.0: 0.4073604043402334,\n",
       " 5061.0: 0.11348130304470727,\n",
       " 5159.0: 0.5334878712981683,\n",
       " 5161.0: 0.196094309320208,\n",
       " 5162.0: 0.06787794555766281,\n",
       " 5256.0: 0.042564602027733364,\n",
       " 5258.0: 0.1448827640762684,\n",
       " 5259.0: 0.6743466875228397,\n",
       " 5262.0: 0.0818242859401221,\n",
       " 5758.0: 0.028849014321667425,\n",
       " 5857.0: 0.015432314572610056,\n",
       " 6058.0: 0.027248756758612058,\n",
       " 6064.0: 0.038399284779566854}"
      ]
     },
     "execution_count": 42,
     "metadata": {},
     "output_type": "execute_result"
    }
   ],
   "source": [
    "eigenvector_centrality = nx.eigenvector_centrality(G, weight='strength')\n",
    "eigenvector_centrality"
   ]
  },
  {
   "cell_type": "code",
   "execution_count": 43,
   "metadata": {},
   "outputs": [
    {
     "data": {
      "image/png": "[encoded data removed]",
      "text/plain": [
       "<Figure size 504x360 with 1 Axes>"
      ]
     },
     "metadata": {
      "needs_background": "light"
     },
     "output_type": "display_data"
    }
   ],
   "source": [
    "plt.figure(figsize=(7,5))\n",
    "plt.title('Eigenvector Centrality')\n",
    "plt.bar(range(len(eigenvector_centrality)), eigenvector_centrality.values())\n",
    "plt.xticks(range(len(eigenvector_centrality)), [int(x) for x in eigenvector_centrality.keys()], rotation=45)\n",
    "plt.savefig(f'../plots/eigenvector_centrality_{city}_week{week}.png')"
   ]
  }
 ],
 "metadata": {
  "kernelspec": {
   "display_name": "Python 3",
   "language": "python",
   "name": "python3"
  },
  "language_info": {
   "codemirror_mode": {
    "name": "ipython",
    "version": 3
   },
   "file_extension": ".py",
   "mimetype": "text/x-python",
   "name": "python",
   "nbconvert_exporter": "python",
   "pygments_lexer": "ipython3",
   "version": "3.6.9"
  }
 },
 "nbformat": 4,
 "nbformat_minor": 4
}
