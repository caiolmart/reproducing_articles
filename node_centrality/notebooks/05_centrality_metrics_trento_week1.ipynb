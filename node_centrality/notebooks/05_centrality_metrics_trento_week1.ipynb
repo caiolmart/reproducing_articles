{
 "cells": [
  {
   "cell_type": "code",
   "execution_count": 1,
   "metadata": {},
   "outputs": [],
   "source": [
    "import pandas as pd\n",
    "import numpy as np\n",
    "import networkx as nx\n",
    "import matplotlib.pyplot as plt\n",
    "import seaborn as sns\n",
    "import gc\n",
    "import pickle"
   ]
  },
  {
   "cell_type": "markdown",
   "metadata": {},
   "source": [
    "## Trento"
   ]
  },
  {
   "cell_type": "markdown",
   "metadata": {},
   "source": [
    "### Week 1"
   ]
  },
  {
   "cell_type": "code",
   "execution_count": 2,
   "metadata": {},
   "outputs": [
    {
     "name": "stdout",
     "output_type": "stream",
     "text": [
      "(22479855, 3)\n"
     ]
    },
    {
     "data": {
      "text/html": [
       "<div>\n",
       "<style scoped>\n",
       "    .dataframe tbody tr th:only-of-type {\n",
       "        vertical-align: middle;\n",
       "    }\n",
       "\n",
       "    .dataframe tbody tr th {\n",
       "        vertical-align: top;\n",
       "    }\n",
       "\n",
       "    .dataframe thead th {\n",
       "        text-align: right;\n",
       "    }\n",
       "</style>\n",
       "<table border=\"1\" class=\"dataframe\">\n",
       "  <thead>\n",
       "    <tr style=\"text-align: right;\">\n",
       "      <th></th>\n",
       "      <th>square_id1</th>\n",
       "      <th>square_id2</th>\n",
       "      <th>strength</th>\n",
       "    </tr>\n",
       "  </thead>\n",
       "  <tbody>\n",
       "    <tr>\n",
       "      <th>0</th>\n",
       "      <td>38</td>\n",
       "      <td>38</td>\n",
       "      <td>0.189726</td>\n",
       "    </tr>\n",
       "    <tr>\n",
       "      <th>1</th>\n",
       "      <td>38</td>\n",
       "      <td>39</td>\n",
       "      <td>0.075876</td>\n",
       "    </tr>\n",
       "    <tr>\n",
       "      <th>2</th>\n",
       "      <td>38</td>\n",
       "      <td>40</td>\n",
       "      <td>0.046166</td>\n",
       "    </tr>\n",
       "    <tr>\n",
       "      <th>3</th>\n",
       "      <td>38</td>\n",
       "      <td>154</td>\n",
       "      <td>0.135384</td>\n",
       "    </tr>\n",
       "    <tr>\n",
       "      <th>4</th>\n",
       "      <td>38</td>\n",
       "      <td>155</td>\n",
       "      <td>0.104347</td>\n",
       "    </tr>\n",
       "  </tbody>\n",
       "</table>\n",
       "</div>"
      ],
      "text/plain": [
       "   square_id1  square_id2  strength\n",
       "0          38          38  0.189726\n",
       "1          38          39  0.075876\n",
       "2          38          40  0.046166\n",
       "3          38         154  0.135384\n",
       "4          38         155  0.104347"
      ]
     },
     "execution_count": 2,
     "metadata": {},
     "output_type": "execute_result"
    }
   ],
   "source": [
    "week = 1\n",
    "city = 'tn'\n",
    "max_id = 10000\n",
    "data = pd.read_csv(f'../data/{city}_to_{city}/{city}_to_{city}_week{week}.csv')\n",
    "print(data.shape)\n",
    "data.head()"
   ]
  },
  {
   "cell_type": "code",
   "execution_count": 3,
   "metadata": {},
   "outputs": [],
   "source": [
    "with open(f'hotspots_{city}.pkl', 'rb') as file:\n",
    "    hotspots = pickle.load(file)"
   ]
  },
  {
   "cell_type": "markdown",
   "metadata": {},
   "source": [
    "#### Degree Centrality Uncleaned"
   ]
  },
  {
   "cell_type": "code",
   "execution_count": 4,
   "metadata": {},
   "outputs": [],
   "source": [
    "degree_centralities = list()\n",
    "for hp in hotspots:\n",
    "    degree_centralities.append(data[(data.square_id1 == hp) &  \n",
    "                                    (~(data.square_id2 == hp))].strength.sum())"
   ]
  },
  {
   "cell_type": "code",
   "execution_count": 5,
   "metadata": {},
   "outputs": [
    {
     "data": {
      "image/png": "[encoded data removed]",
      "text/plain": [
       "<Figure size 504x360 with 1 Axes>"
      ]
     },
     "metadata": {
      "needs_background": "light"
     },
     "output_type": "display_data"
    }
   ],
   "source": [
    "plt.figure(figsize=(7,5))\n",
    "plt.title('Degree Centrality')\n",
    "plt.bar(range(len(degree_centralities)), degree_centralities)\n",
    "plt.xticks(range(len(degree_centralities)), hotspots, rotation=45)\n",
    "plt.savefig(f'../plots/degree_centrality_{city}_week{week}_uncleaned.png')"
   ]
  },
  {
   "cell_type": "markdown",
   "metadata": {},
   "source": [
    "#### Cleaning Data"
   ]
  },
  {
   "cell_type": "code",
   "execution_count": 6,
   "metadata": {},
   "outputs": [
    {
     "name": "stdout",
     "output_type": "stream",
     "text": [
      "(400, 3)\n"
     ]
    },
    {
     "data": {
      "text/html": [
       "<div>\n",
       "<style scoped>\n",
       "    .dataframe tbody tr th:only-of-type {\n",
       "        vertical-align: middle;\n",
       "    }\n",
       "\n",
       "    .dataframe tbody tr th {\n",
       "        vertical-align: top;\n",
       "    }\n",
       "\n",
       "    .dataframe thead th {\n",
       "        text-align: right;\n",
       "    }\n",
       "</style>\n",
       "<table border=\"1\" class=\"dataframe\">\n",
       "  <thead>\n",
       "    <tr style=\"text-align: right;\">\n",
       "      <th></th>\n",
       "      <th>square_id1</th>\n",
       "      <th>square_id2</th>\n",
       "      <th>strength</th>\n",
       "    </tr>\n",
       "  </thead>\n",
       "  <tbody>\n",
       "    <tr>\n",
       "      <th>2719883</th>\n",
       "      <td>2738</td>\n",
       "      <td>2738</td>\n",
       "      <td>58.188393</td>\n",
       "    </tr>\n",
       "    <tr>\n",
       "      <th>2719942</th>\n",
       "      <td>2738</td>\n",
       "      <td>2854</td>\n",
       "      <td>60.391584</td>\n",
       "    </tr>\n",
       "    <tr>\n",
       "      <th>2719943</th>\n",
       "      <td>2738</td>\n",
       "      <td>2855</td>\n",
       "      <td>86.029911</td>\n",
       "    </tr>\n",
       "    <tr>\n",
       "      <th>2721132</th>\n",
       "      <td>2738</td>\n",
       "      <td>4850</td>\n",
       "      <td>3.031244</td>\n",
       "    </tr>\n",
       "    <tr>\n",
       "      <th>2721217</th>\n",
       "      <td>2738</td>\n",
       "      <td>4966</td>\n",
       "      <td>0.866128</td>\n",
       "    </tr>\n",
       "  </tbody>\n",
       "</table>\n",
       "</div>"
      ],
      "text/plain": [
       "         square_id1  square_id2   strength\n",
       "2719883        2738        2738  58.188393\n",
       "2719942        2738        2854  60.391584\n",
       "2719943        2738        2855  86.029911\n",
       "2721132        2738        4850   3.031244\n",
       "2721217        2738        4966   0.866128"
      ]
     },
     "execution_count": 6,
     "metadata": {},
     "output_type": "execute_result"
    }
   ],
   "source": [
    "data_cleaned = data[(data.square_id1.isin(hotspots)) & \n",
    "                    (data.square_id2.isin(hotspots))]\n",
    "print(data_cleaned.shape)\n",
    "data_cleaned.head()"
   ]
  },
  {
   "cell_type": "markdown",
   "metadata": {},
   "source": [
    "#### Degree Centrality Clean"
   ]
  },
  {
   "cell_type": "code",
   "execution_count": 7,
   "metadata": {},
   "outputs": [],
   "source": [
    "degree_centralities = list()\n",
    "for hp in hotspots:\n",
    "    degree_centralities.append(data_cleaned[(data_cleaned.square_id1 == hp) &  \n",
    "                                            (~(data_cleaned.square_id2 == hp))].strength.sum())"
   ]
  },
  {
   "cell_type": "code",
   "execution_count": 8,
   "metadata": {},
   "outputs": [
    {
     "data": {
      "image/png": "[encoded data removed]",
      "text/plain": [
       "<Figure size 504x360 with 1 Axes>"
      ]
     },
     "metadata": {
      "needs_background": "light"
     },
     "output_type": "display_data"
    }
   ],
   "source": [
    "plt.figure(figsize=(7,5))\n",
    "plt.title('Degree Centrality')\n",
    "plt.bar(range(len(degree_centralities)), degree_centralities)\n",
    "plt.xticks(range(len(degree_centralities)), hotspots, rotation=45)\n",
    "plt.savefig(f'../plots/degree_centrality_{city}_week{week}.png')"
   ]
  },
  {
   "cell_type": "markdown",
   "metadata": {},
   "source": [
    "#### Building Graph"
   ]
  },
  {
   "cell_type": "code",
   "execution_count": 9,
   "metadata": {},
   "outputs": [],
   "source": [
    "G = nx.DiGraph()"
   ]
  },
  {
   "cell_type": "code",
   "execution_count": 10,
   "metadata": {},
   "outputs": [],
   "source": [
    "for row in data_cleaned.values:\n",
    "    G.add_edge(row[0], row[1], strength=row[2])"
   ]
  },
  {
   "cell_type": "markdown",
   "metadata": {},
   "source": [
    "#### Closeness Centrality"
   ]
  },
  {
   "cell_type": "code",
   "execution_count": 11,
   "metadata": {},
   "outputs": [],
   "source": [
    "closeness_centralities = list()\n",
    "for hp in hotspots:\n",
    "    cc = nx.closeness_centrality(G, hp, distance='strength') / 19\n",
    "    closeness_centralities.append(cc)"
   ]
  },
  {
   "cell_type": "code",
   "execution_count": 12,
   "metadata": {},
   "outputs": [
    {
     "data": {
      "image/png": "[encoded data removed]",
      "text/plain": [
       "<Figure size 504x360 with 1 Axes>"
      ]
     },
     "metadata": {
      "needs_background": "light"
     },
     "output_type": "display_data"
    }
   ],
   "source": [
    "plt.figure(figsize=(7,5))\n",
    "plt.title('Closeness Centrality')\n",
    "plt.bar(range(len(closeness_centralities)), closeness_centralities)\n",
    "plt.xticks(range(len(closeness_centralities)), hotspots, rotation=45)\n",
    "plt.savefig(f'../plots/closeness_centrality_{city}_week{week}.png')"
   ]
  },
  {
   "cell_type": "markdown",
   "metadata": {},
   "source": [
    "#### Betweenness Centrality"
   ]
  },
  {
   "cell_type": "code",
   "execution_count": 13,
   "metadata": {},
   "outputs": [],
   "source": [
    "betweenness_centrality = nx.betweenness_centrality(G, normalized=False, weight='strength')"
   ]
  },
  {
   "cell_type": "code",
   "execution_count": 14,
   "metadata": {},
   "outputs": [
    {
     "data": {
      "image/png": "[encoded data removed]",
      "text/plain": [
       "<Figure size 504x360 with 1 Axes>"
      ]
     },
     "metadata": {
      "needs_background": "light"
     },
     "output_type": "display_data"
    }
   ],
   "source": [
    "plt.figure(figsize=(7,5))\n",
    "plt.title('Betweenness Centrality')\n",
    "plt.bar(range(len(betweenness_centrality)), betweenness_centrality.values())\n",
    "plt.xticks(range(len(betweenness_centrality)), [int(x) for x in betweenness_centrality.keys()], rotation=45)\n",
    "plt.savefig(f'../plots/betweenness_centrality_{city}_week{week}.png')"
   ]
  },
  {
   "cell_type": "markdown",
   "metadata": {},
   "source": [
    "#### PageRank Centrality"
   ]
  },
  {
   "cell_type": "code",
   "execution_count": 15,
   "metadata": {},
   "outputs": [
    {
     "data": {
      "text/plain": [
       "{2738.0: 0.025474033504961486,\n",
       " 2854.0: 0.03935382336208973,\n",
       " 2855.0: 0.03917620492374883,\n",
       " 4850.0: 0.02445422882596834,\n",
       " 4966.0: 0.02768352650150696,\n",
       " 4967.0: 0.05948734249820713,\n",
       " 5083.0: 0.06958394275532087,\n",
       " 5084.0: 0.10630310901588032,\n",
       " 5085.0: 0.021350109788999455,\n",
       " 5200.0: 0.1289057489928181,\n",
       " 5201.0: 0.12044941032619398,\n",
       " 5202.0: 0.017202128455744693,\n",
       " 5205.0: 0.01976162785462882,\n",
       " 5317.0: 0.0564923348221821,\n",
       " 5318.0: 0.04937552699322387,\n",
       " 5434.0: 0.07080261984995014,\n",
       " 5435.0: 0.02584972730452849,\n",
       " 5551.0: 0.04897521013309138,\n",
       " 5667.0: 0.024639377212002045,\n",
       " 5668.0: 0.02467996687895329}"
      ]
     },
     "execution_count": 15,
     "metadata": {},
     "output_type": "execute_result"
    }
   ],
   "source": [
    "pagerank_centrality = nx.pagerank(G, weight='strength')\n",
    "pagerank_centrality"
   ]
  },
  {
   "cell_type": "code",
   "execution_count": 16,
   "metadata": {},
   "outputs": [
    {
     "data": {
      "image/png": "[encoded data removed]",
      "text/plain": [
       "<Figure size 504x360 with 1 Axes>"
      ]
     },
     "metadata": {
      "needs_background": "light"
     },
     "output_type": "display_data"
    }
   ],
   "source": [
    "plt.figure(figsize=(7,5))\n",
    "plt.title('PageRank Centrality')\n",
    "plt.bar(range(len(pagerank_centrality)), pagerank_centrality.values())\n",
    "plt.xticks(range(len(pagerank_centrality)), [int(x) for x in pagerank_centrality.keys()], rotation=45)\n",
    "plt.savefig(f'../plots/pagerank_centrality_{city}_week{week}.png')"
   ]
  },
  {
   "cell_type": "markdown",
   "metadata": {},
   "source": [
    "#### Eigenvector Centrality"
   ]
  },
  {
   "cell_type": "code",
   "execution_count": 17,
   "metadata": {
    "scrolled": true
   },
   "outputs": [
    {
     "data": {
      "text/plain": [
       "{2738.0: 0.014139902633094977,\n",
       " 2854.0: 0.02991782004420358,\n",
       " 2855.0: 0.02758027731699112,\n",
       " 4850.0: 0.041814067685156775,\n",
       " 4966.0: 0.058063927627223934,\n",
       " 4967.0: 0.14342534062619539,\n",
       " 5083.0: 0.23223005318747975,\n",
       " 5084.0: 0.4121137024042304,\n",
       " 5085.0: 0.04778717370774186,\n",
       " 5200.0: 0.625013657946386,\n",
       " 5201.0: 0.5158607193061926,\n",
       " 5202.0: 0.0285234946314118,\n",
       " 5205.0: 0.045294685368416916,\n",
       " 5317.0: 0.16472325070229055,\n",
       " 5318.0: 0.1362359656420494,\n",
       " 5434.0: 0.16528437074446695,\n",
       " 5435.0: 0.04823259279651748,\n",
       " 5551.0: 0.09382392588749566,\n",
       " 5667.0: 0.033918412521585686,\n",
       " 5668.0: 0.038591471470894506}"
      ]
     },
     "execution_count": 17,
     "metadata": {},
     "output_type": "execute_result"
    }
   ],
   "source": [
    "eigenvector_centrality = nx.eigenvector_centrality(G, weight='strength')\n",
    "eigenvector_centrality"
   ]
  },
  {
   "cell_type": "code",
   "execution_count": 18,
   "metadata": {},
   "outputs": [
    {
     "data": {
      "image/png": "[encoded data removed]",
      "text/plain": [
       "<Figure size 504x360 with 1 Axes>"
      ]
     },
     "metadata": {
      "needs_background": "light"
     },
     "output_type": "display_data"
    }
   ],
   "source": [
    "plt.figure(figsize=(7,5))\n",
    "plt.title('Eigenvector Centrality')\n",
    "plt.bar(range(len(eigenvector_centrality)), eigenvector_centrality.values())\n",
    "plt.xticks(range(len(eigenvector_centrality)), [int(x) for x in eigenvector_centrality.keys()], rotation=45)\n",
    "plt.savefig(f'../plots/eigenvector_centrality_{city}_week{week}.png')"
   ]
  }
 ],
 "metadata": {
  "kernelspec": {
   "display_name": "Python 3",
   "language": "python",
   "name": "python3"
  },
  "language_info": {
   "codemirror_mode": {
    "name": "ipython",
    "version": 3
   },
   "file_extension": ".py",
   "mimetype": "text/x-python",
   "name": "python",
   "nbconvert_exporter": "python",
   "pygments_lexer": "ipython3",
   "version": "3.6.9"
  }
 },
 "nbformat": 4,
 "nbformat_minor": 4
}
