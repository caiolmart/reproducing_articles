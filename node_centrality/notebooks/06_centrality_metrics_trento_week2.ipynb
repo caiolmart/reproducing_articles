{
 "cells": [
  {
   "cell_type": "code",
   "execution_count": 1,
   "metadata": {},
   "outputs": [],
   "source": [
    "import pandas as pd\n",
    "import numpy as np\n",
    "import networkx as nx\n",
    "import matplotlib.pyplot as plt\n",
    "import seaborn as sns\n",
    "import gc\n",
    "import pickle"
   ]
  },
  {
   "cell_type": "markdown",
   "metadata": {},
   "source": [
    "## Trento"
   ]
  },
  {
   "cell_type": "markdown",
   "metadata": {},
   "source": [
    "### Week 2"
   ]
  },
  {
   "cell_type": "code",
   "execution_count": 2,
   "metadata": {},
   "outputs": [
    {
     "name": "stdout",
     "output_type": "stream",
     "text": [
      "(23610829, 3)\n"
     ]
    },
    {
     "data": {
      "text/html": [
       "<div>\n",
       "<style scoped>\n",
       "    .dataframe tbody tr th:only-of-type {\n",
       "        vertical-align: middle;\n",
       "    }\n",
       "\n",
       "    .dataframe tbody tr th {\n",
       "        vertical-align: top;\n",
       "    }\n",
       "\n",
       "    .dataframe thead th {\n",
       "        text-align: right;\n",
       "    }\n",
       "</style>\n",
       "<table border=\"1\" class=\"dataframe\">\n",
       "  <thead>\n",
       "    <tr style=\"text-align: right;\">\n",
       "      <th></th>\n",
       "      <th>square_id1</th>\n",
       "      <th>square_id2</th>\n",
       "      <th>strength</th>\n",
       "    </tr>\n",
       "  </thead>\n",
       "  <tbody>\n",
       "    <tr>\n",
       "      <th>0</th>\n",
       "      <td>38</td>\n",
       "      <td>38</td>\n",
       "      <td>0.209739</td>\n",
       "    </tr>\n",
       "    <tr>\n",
       "      <th>1</th>\n",
       "      <td>38</td>\n",
       "      <td>39</td>\n",
       "      <td>0.098653</td>\n",
       "    </tr>\n",
       "    <tr>\n",
       "      <th>2</th>\n",
       "      <td>38</td>\n",
       "      <td>40</td>\n",
       "      <td>0.043984</td>\n",
       "    </tr>\n",
       "    <tr>\n",
       "      <th>3</th>\n",
       "      <td>38</td>\n",
       "      <td>154</td>\n",
       "      <td>0.186532</td>\n",
       "    </tr>\n",
       "    <tr>\n",
       "      <th>4</th>\n",
       "      <td>38</td>\n",
       "      <td>155</td>\n",
       "      <td>0.142802</td>\n",
       "    </tr>\n",
       "  </tbody>\n",
       "</table>\n",
       "</div>"
      ],
      "text/plain": [
       "   square_id1  square_id2  strength\n",
       "0          38          38  0.209739\n",
       "1          38          39  0.098653\n",
       "2          38          40  0.043984\n",
       "3          38         154  0.186532\n",
       "4          38         155  0.142802"
      ]
     },
     "execution_count": 2,
     "metadata": {},
     "output_type": "execute_result"
    }
   ],
   "source": [
    "week = 2\n",
    "city = 'tn'\n",
    "max_id = 10000\n",
    "data = pd.read_csv(f'../data/{city}_to_{city}/{city}_to_{city}_week{week}.csv')\n",
    "print(data.shape)\n",
    "data.head()"
   ]
  },
  {
   "cell_type": "code",
   "execution_count": 3,
   "metadata": {},
   "outputs": [],
   "source": [
    "with open(f'hotspots_{city}.pkl', 'rb') as file:\n",
    "    hotspots = pickle.load(file)"
   ]
  },
  {
   "cell_type": "markdown",
   "metadata": {},
   "source": [
    "#### Degree Centrality Uncleaned"
   ]
  },
  {
   "cell_type": "code",
   "execution_count": 4,
   "metadata": {},
   "outputs": [],
   "source": [
    "degree_centralities = list()\n",
    "for hp in hotspots:\n",
    "    degree_centralities.append(data[(data.square_id1 == hp) &  \n",
    "                                    (~(data.square_id2 == hp))].strength.sum())"
   ]
  },
  {
   "cell_type": "code",
   "execution_count": 5,
   "metadata": {},
   "outputs": [
    {
     "data": {
      "image/png": "[encoded data removed]",
      "text/plain": [
       "<Figure size 504x360 with 1 Axes>"
      ]
     },
     "metadata": {
      "needs_background": "light"
     },
     "output_type": "display_data"
    }
   ],
   "source": [
    "plt.figure(figsize=(7,5))\n",
    "plt.title('Degree Centrality')\n",
    "plt.bar(range(len(degree_centralities)), degree_centralities, color='red')\n",
    "plt.xticks(range(len(degree_centralities)), hotspots, rotation=45)\n",
    "plt.savefig(f'../plots/degree_centrality_{city}_week{week}_uncleaned.png')"
   ]
  },
  {
   "cell_type": "markdown",
   "metadata": {},
   "source": [
    "#### Cleaning Data"
   ]
  },
  {
   "cell_type": "code",
   "execution_count": 6,
   "metadata": {},
   "outputs": [
    {
     "name": "stdout",
     "output_type": "stream",
     "text": [
      "(400, 3)\n"
     ]
    },
    {
     "data": {
      "text/html": [
       "<div>\n",
       "<style scoped>\n",
       "    .dataframe tbody tr th:only-of-type {\n",
       "        vertical-align: middle;\n",
       "    }\n",
       "\n",
       "    .dataframe tbody tr th {\n",
       "        vertical-align: top;\n",
       "    }\n",
       "\n",
       "    .dataframe thead th {\n",
       "        text-align: right;\n",
       "    }\n",
       "</style>\n",
       "<table border=\"1\" class=\"dataframe\">\n",
       "  <thead>\n",
       "    <tr style=\"text-align: right;\">\n",
       "      <th></th>\n",
       "      <th>square_id1</th>\n",
       "      <th>square_id2</th>\n",
       "      <th>strength</th>\n",
       "    </tr>\n",
       "  </thead>\n",
       "  <tbody>\n",
       "    <tr>\n",
       "      <th>2787509</th>\n",
       "      <td>2738</td>\n",
       "      <td>2738</td>\n",
       "      <td>66.353771</td>\n",
       "    </tr>\n",
       "    <tr>\n",
       "      <th>2787566</th>\n",
       "      <td>2738</td>\n",
       "      <td>2854</td>\n",
       "      <td>62.772619</td>\n",
       "    </tr>\n",
       "    <tr>\n",
       "      <th>2787567</th>\n",
       "      <td>2738</td>\n",
       "      <td>2855</td>\n",
       "      <td>100.898060</td>\n",
       "    </tr>\n",
       "    <tr>\n",
       "      <th>2788732</th>\n",
       "      <td>2738</td>\n",
       "      <td>4850</td>\n",
       "      <td>2.824862</td>\n",
       "    </tr>\n",
       "    <tr>\n",
       "      <th>2788815</th>\n",
       "      <td>2738</td>\n",
       "      <td>4966</td>\n",
       "      <td>0.887545</td>\n",
       "    </tr>\n",
       "  </tbody>\n",
       "</table>\n",
       "</div>"
      ],
      "text/plain": [
       "         square_id1  square_id2    strength\n",
       "2787509        2738        2738   66.353771\n",
       "2787566        2738        2854   62.772619\n",
       "2787567        2738        2855  100.898060\n",
       "2788732        2738        4850    2.824862\n",
       "2788815        2738        4966    0.887545"
      ]
     },
     "execution_count": 6,
     "metadata": {},
     "output_type": "execute_result"
    }
   ],
   "source": [
    "data_cleaned = data[(data.square_id1.isin(hotspots)) & \n",
    "                    (data.square_id2.isin(hotspots))]\n",
    "print(data_cleaned.shape)\n",
    "data_cleaned.head()"
   ]
  },
  {
   "cell_type": "markdown",
   "metadata": {},
   "source": [
    "#### Degree Centrality Clean"
   ]
  },
  {
   "cell_type": "code",
   "execution_count": 7,
   "metadata": {},
   "outputs": [],
   "source": [
    "degree_centralities = list()\n",
    "for hp in hotspots:\n",
    "    degree_centralities.append(data_cleaned[(data_cleaned.square_id1 == hp) &  \n",
    "                                            (~(data_cleaned.square_id2 == hp))].strength.sum())"
   ]
  },
  {
   "cell_type": "code",
   "execution_count": 8,
   "metadata": {},
   "outputs": [
    {
     "data": {
      "image/png": "[encoded data removed]",
      "text/plain": [
       "<Figure size 504x360 with 1 Axes>"
      ]
     },
     "metadata": {
      "needs_background": "light"
     },
     "output_type": "display_data"
    }
   ],
   "source": [
    "plt.figure(figsize=(7,5))\n",
    "plt.title('Degree Centrality')\n",
    "plt.bar(range(len(degree_centralities)), degree_centralities, color='red')\n",
    "plt.xticks(range(len(degree_centralities)), hotspots, rotation=45)\n",
    "plt.savefig(f'../plots/degree_centrality_{city}_week{week}.png')"
   ]
  },
  {
   "cell_type": "markdown",
   "metadata": {},
   "source": [
    "#### Building Graph"
   ]
  },
  {
   "cell_type": "code",
   "execution_count": 9,
   "metadata": {},
   "outputs": [],
   "source": [
    "G = nx.DiGraph()"
   ]
  },
  {
   "cell_type": "code",
   "execution_count": 10,
   "metadata": {},
   "outputs": [],
   "source": [
    "for row in data_cleaned.values:\n",
    "    G.add_edge(row[0], row[1], strength=row[2])"
   ]
  },
  {
   "cell_type": "markdown",
   "metadata": {},
   "source": [
    "#### Closeness Centrality"
   ]
  },
  {
   "cell_type": "code",
   "execution_count": 11,
   "metadata": {},
   "outputs": [],
   "source": [
    "closeness_centralities = list()\n",
    "for hp in hotspots:\n",
    "    cc = nx.closeness_centrality(G, hp, distance='strength') / 19\n",
    "    closeness_centralities.append(cc)"
   ]
  },
  {
   "cell_type": "code",
   "execution_count": 12,
   "metadata": {},
   "outputs": [
    {
     "data": {
      "image/png": "[encoded data removed]",
      "text/plain": [
       "<Figure size 504x360 with 1 Axes>"
      ]
     },
     "metadata": {
      "needs_background": "light"
     },
     "output_type": "display_data"
    }
   ],
   "source": [
    "plt.figure(figsize=(7,5))\n",
    "plt.title('Closeness Centrality')\n",
    "plt.bar(range(len(closeness_centralities)), closeness_centralities, color='red')\n",
    "plt.xticks(range(len(closeness_centralities)), hotspots, rotation=45)\n",
    "plt.savefig(f'../plots/closeness_centrality_{city}_week{week}.png')"
   ]
  },
  {
   "cell_type": "markdown",
   "metadata": {},
   "source": [
    "#### Betweenness Centrality"
   ]
  },
  {
   "cell_type": "code",
   "execution_count": 13,
   "metadata": {},
   "outputs": [],
   "source": [
    "betweenness_centrality = nx.betweenness_centrality(G, normalized=False, weight='strength')"
   ]
  },
  {
   "cell_type": "code",
   "execution_count": 14,
   "metadata": {},
   "outputs": [
    {
     "data": {
      "image/png": "[encoded data removed]",
      "text/plain": [
       "<Figure size 504x360 with 1 Axes>"
      ]
     },
     "metadata": {
      "needs_background": "light"
     },
     "output_type": "display_data"
    }
   ],
   "source": [
    "plt.figure(figsize=(7,5))\n",
    "plt.title('Betweenness Centrality')\n",
    "plt.bar(range(len(betweenness_centrality)), betweenness_centrality.values(), color='red')\n",
    "plt.xticks(range(len(betweenness_centrality)), [int(x) for x in betweenness_centrality.keys()], rotation=45)\n",
    "plt.savefig(f'../plots/betweenness_centrality_{city}_week{week}.png')"
   ]
  },
  {
   "cell_type": "markdown",
   "metadata": {},
   "source": [
    "#### PageRank Centrality"
   ]
  },
  {
   "cell_type": "code",
   "execution_count": 15,
   "metadata": {},
   "outputs": [
    {
     "data": {
      "text/plain": [
       "{2738.0: 0.026325296551187014,\n",
       " 2854.0: 0.03701926681714958,\n",
       " 2855.0: 0.04098387179958877,\n",
       " 4850.0: 0.028501517064032124,\n",
       " 4966.0: 0.02525156306290489,\n",
       " 4967.0: 0.04971805937621828,\n",
       " 5083.0: 0.06719579286293387,\n",
       " 5084.0: 0.10661383055982418,\n",
       " 5085.0: 0.020732594679977723,\n",
       " 5200.0: 0.14173793401992885,\n",
       " 5201.0: 0.12506183137578644,\n",
       " 5202.0: 0.016392563155398974,\n",
       " 5205.0: 0.01987166427798468,\n",
       " 5317.0: 0.058879460519195195,\n",
       " 5318.0: 0.04467344994845555,\n",
       " 5434.0: 0.06777630266324929,\n",
       " 5435.0: 0.025247824540063087,\n",
       " 5551.0: 0.04610368381708035,\n",
       " 5667.0: 0.02603003500020758,\n",
       " 5668.0: 0.02588345790883411}"
      ]
     },
     "execution_count": 15,
     "metadata": {},
     "output_type": "execute_result"
    }
   ],
   "source": [
    "pagerank_centrality = nx.pagerank(G, weight='strength')\n",
    "pagerank_centrality"
   ]
  },
  {
   "cell_type": "code",
   "execution_count": 16,
   "metadata": {},
   "outputs": [
    {
     "data": {
      "image/png": "[encoded data removed]",
      "text/plain": [
       "<Figure size 504x360 with 1 Axes>"
      ]
     },
     "metadata": {
      "needs_background": "light"
     },
     "output_type": "display_data"
    }
   ],
   "source": [
    "plt.figure(figsize=(7,5))\n",
    "plt.title('PageRank Centrality')\n",
    "plt.bar(range(len(pagerank_centrality)), pagerank_centrality.values(), color='red')\n",
    "plt.xticks(range(len(pagerank_centrality)), [int(x) for x in pagerank_centrality.keys()], rotation=45)\n",
    "plt.savefig(f'../plots/pagerank_centrality_{city}_week{week}.png')"
   ]
  },
  {
   "cell_type": "markdown",
   "metadata": {},
   "source": [
    "#### Eigenvector Centrality"
   ]
  },
  {
   "cell_type": "code",
   "execution_count": 17,
   "metadata": {
    "scrolled": true
   },
   "outputs": [
    {
     "data": {
      "text/plain": [
       "{2738.0: 0.01095466380821981,\n",
       " 2854.0: 0.026038090438736866,\n",
       " 2855.0: 0.02181229780302787,\n",
       " 4850.0: 0.051423183738796376,\n",
       " 4966.0: 0.044131180053070575,\n",
       " 4967.0: 0.10334671968593133,\n",
       " 5083.0: 0.20487282163452364,\n",
       " 5084.0: 0.3618576018647902,\n",
       " 5085.0: 0.03972659040870692,\n",
       " 5200.0: 0.6984545903575226,\n",
       " 5201.0: 0.5063979855292426,\n",
       " 5202.0: 0.023136103899959657,\n",
       " 5205.0: 0.03886478247835189,\n",
       " 5317.0: 0.1546195465104335,\n",
       " 5318.0: 0.10764141031548126,\n",
       " 5434.0: 0.1364759638468887,\n",
       " 5435.0: 0.042864452139848165,\n",
       " 5551.0: 0.0696167476131867,\n",
       " 5667.0: 0.028986423890844715,\n",
       " 5668.0: 0.031538415056736005}"
      ]
     },
     "execution_count": 17,
     "metadata": {},
     "output_type": "execute_result"
    }
   ],
   "source": [
    "eigenvector_centrality = nx.eigenvector_centrality(G, weight='strength')\n",
    "eigenvector_centrality"
   ]
  },
  {
   "cell_type": "code",
   "execution_count": 18,
   "metadata": {},
   "outputs": [
    {
     "data": {
      "image/png": "[encoded data removed]",
      "text/plain": [
       "<Figure size 504x360 with 1 Axes>"
      ]
     },
     "metadata": {
      "needs_background": "light"
     },
     "output_type": "display_data"
    }
   ],
   "source": [
    "plt.figure(figsize=(7,5))\n",
    "plt.title('Eigenvector Centrality')\n",
    "plt.bar(range(len(eigenvector_centrality)), eigenvector_centrality.values(), color='red')\n",
    "plt.xticks(range(len(eigenvector_centrality)), [int(x) for x in eigenvector_centrality.keys()], rotation=45)\n",
    "plt.savefig(f'../plots/eigenvector_centrality_{city}_week{week}.png')"
   ]
  }
 ],
 "metadata": {
  "kernelspec": {
   "display_name": "Python 3",
   "language": "python",
   "name": "python3"
  },
  "language_info": {
   "codemirror_mode": {
    "name": "ipython",
    "version": 3
   },
   "file_extension": ".py",
   "mimetype": "text/x-python",
   "name": "python",
   "nbconvert_exporter": "python",
   "pygments_lexer": "ipython3",
   "version": "3.6.9"
  }
 },
 "nbformat": 4,
 "nbformat_minor": 4
}
