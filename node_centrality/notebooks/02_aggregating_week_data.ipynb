{
 "cells": [
  {
   "cell_type": "markdown",
   "metadata": {},
   "source": [
    "# Transforming Data\n",
    "---\n",
    "As the data of the Milan/Trento to Milan/Trento is too big to fit in the memory of my laptop, I will save it only with the information that will be used in this work."
   ]
  },
  {
   "cell_type": "code",
   "execution_count": 1,
   "metadata": {},
   "outputs": [],
   "source": [
    "import pandas as pd\n",
    "import gc\n",
    "import os\n",
    "from datetime import datetime\n",
    "from dateutil.relativedelta import relativedelta"
   ]
  },
  {
   "cell_type": "markdown",
   "metadata": {},
   "source": [
    "## Milan"
   ]
  },
  {
   "cell_type": "markdown",
   "metadata": {},
   "source": [
    "### Grouping by ('square_id1', 'square_id2') for each day"
   ]
  },
  {
   "cell_type": "code",
   "execution_count": 2,
   "metadata": {
    "scrolled": false
   },
   "outputs": [],
   "source": [
    "columns = ['time_interval',\n",
    "           'square_id1',\n",
    "           'square_id2',\n",
    "           'strength']\n",
    "sum_cols = ['strength']\n",
    "day = datetime(2013, 11, 18)\n",
    "for i in range(30):\n",
    "    source_file = f\"../data/mi_to_mi/MItoMI-{day.strftime('%Y-%m-%d')}.txt\"\n",
    "    dest_file = f\"../data/mi_to_mi/mi_to_mi_{day.strftime('%Y%m%d')}.csv\"\n",
    "    if os.path.exists(source_file) and not os.path.exists(dest_file):\n",
    "        print(f\"Reading data {source_file}\")\n",
    "        data = pd.read_csv(source_file, \n",
    "                           sep='\\t',\n",
    "                           names=columns)\n",
    "        print('Aggregating data.')\n",
    "        data = data.groupby(['square_id1', 'square_id2'])[sum_cols].sum()\n",
    "        print('Saving data.')\n",
    "        data.to_csv(dest_file)\n",
    "        del data\n",
    "        print('Deleting source data.')\n",
    "        os.remove(source_file)\n",
    "        gc.collect()\n",
    "        print('Done')\n",
    "    day = day + relativedelta(days=1)"
   ]
  },
  {
   "cell_type": "markdown",
   "metadata": {},
   "source": [
    "### Grouping week1"
   ]
  },
  {
   "cell_type": "code",
   "execution_count": 3,
   "metadata": {},
   "outputs": [
    {
     "name": "stderr",
     "output_type": "stream",
     "text": [
      "/home/caiolmart/.local/lib/python3.6/site-packages/numpy/lib/arraysetops.py:569: FutureWarning: elementwise comparison failed; returning scalar instead, but in the future will perform elementwise comparison\n",
      "  mask |= (ar1 == a)\n"
     ]
    },
    {
     "name": "stdout",
     "output_type": "stream",
     "text": [
      "(39560650, 1)\n"
     ]
    }
   ],
   "source": [
    "city = 'mi'\n",
    "dest_file = f\"../data/{city}_to_{city}/{city}_to_{city}_week1.csv\"\n",
    "if not os.path.exists(dest_file):\n",
    "    day = datetime(2013, 11, 18)\n",
    "    source_file = f\"../data/{city}_to_{city}/{city}_to_{city}_{day.strftime('%Y%m%d')}.csv\"\n",
    "    df_week1 = pd.read_csv(source_file, index_col=['square_id1', 'square_id2'])\n",
    "    print(df_week1.shape)\n",
    "    df_week1.head()"
   ]
  },
  {
   "cell_type": "code",
   "execution_count": 4,
   "metadata": {},
   "outputs": [
    {
     "name": "stdout",
     "output_type": "stream",
     "text": [
      "Reading day 20131119\n",
      "Day data has shape (40167233, 1)\n",
      "Final data has shape (54592146, 1)\n",
      "Reading day 20131120\n",
      "Day data has shape (39400715, 1)\n",
      "Final data has shape (63196479, 1)\n",
      "Reading day 20131121\n",
      "Day data has shape (39308638, 1)\n",
      "Final data has shape (69247704, 1)\n",
      "Reading day 20131122\n",
      "Day data has shape (38936975, 1)\n",
      "Final data has shape (73671096, 1)\n",
      "Reading day 20131123\n",
      "Day data has shape (27806586, 1)\n",
      "Final data has shape (75654488, 1)\n",
      "Reading day 20131124\n",
      "Day data has shape (22922649, 1)\n",
      "Final data has shape (76921477, 1)\n"
     ]
    }
   ],
   "source": [
    "if not os.path.exists(dest_file):\n",
    "    for i in range(1, 7):\n",
    "        day = day + relativedelta(days=1)\n",
    "        print(f\"Reading day {day.strftime('%Y%m%d')}\")\n",
    "        source_file = f\"../data/{city}_to_{city}/{city}_to_{city}_{day.strftime('%Y%m%d')}.csv\"\n",
    "        df = pd.read_csv(source_file, index_col=['square_id1', 'square_id2'])\n",
    "        print(f\"Day data has shape {df.shape}\")\n",
    "        df_week1 = df_week1.add(df, fill_value=0)\n",
    "        print(f\"Final data has shape {df_week1.shape}\")\n",
    "        del df\n",
    "        gc.collect()"
   ]
  },
  {
   "cell_type": "code",
   "execution_count": 6,
   "metadata": {},
   "outputs": [],
   "source": [
    "if not os.path.exists(dest_file):\n",
    "    df_week1.to_csv(dest_file)\n",
    "    del df_week1\n",
    "    gc.collect()"
   ]
  },
  {
   "cell_type": "markdown",
   "metadata": {},
   "source": [
    "### Grouping week2"
   ]
  },
  {
   "cell_type": "code",
   "execution_count": 10,
   "metadata": {},
   "outputs": [
    {
     "name": "stdout",
     "output_type": "stream",
     "text": [
      "(22369905, 1)\n"
     ]
    }
   ],
   "source": [
    "city = 'mi'\n",
    "dest_file = f\"../data/{city}_to_{city}/{city}_to_{city}_week2.csv\"\n",
    "if not os.path.exists(dest_file):\n",
    "    day = datetime(2013, 12, 8)\n",
    "    source_file = f\"../data/{city}_to_{city}/{city}_to_{city}_{day.strftime('%Y%m%d')}.csv\"\n",
    "    df_week2 = pd.read_csv(source_file, index_col=['square_id1', 'square_id2'])\n",
    "    print(df_week2.shape)\n",
    "    df_week2.head()"
   ]
  },
  {
   "cell_type": "code",
   "execution_count": 11,
   "metadata": {},
   "outputs": [
    {
     "name": "stdout",
     "output_type": "stream",
     "text": [
      "Reading day 20131209\n",
      "Day data has shape (37911195, 1)\n",
      "Final data has shape (44589335, 1)\n",
      "Reading day 20131210\n",
      "Day data has shape (38492280, 1)\n",
      "Final data has shape (56514135, 1)\n",
      "Reading day 20131211\n",
      "Day data has shape (39344702, 1)\n",
      "Final data has shape (64497821, 1)\n",
      "Reading day 20131212\n",
      "Day data has shape (39128610, 1)\n",
      "Final data has shape (70048624, 1)\n",
      "Reading day 20131213\n",
      "Day data has shape (39630665, 1)\n",
      "Final data has shape (74377332, 1)\n",
      "Reading day 20131214\n",
      "Day data has shape (28759063, 1)\n",
      "Final data has shape (76226741, 1)\n"
     ]
    }
   ],
   "source": [
    "if not os.path.exists(dest_file):\n",
    "    for i in range(1, 7):\n",
    "        day = day + relativedelta(days=1)\n",
    "        print(f\"Reading day {day.strftime('%Y%m%d')}\")\n",
    "        source_file = f\"../data/{city}_to_{city}/{city}_to_{city}_{day.strftime('%Y%m%d')}.csv\"\n",
    "        df = pd.read_csv(source_file, index_col=['square_id1', 'square_id2'])\n",
    "        print(f\"Day data has shape {df.shape}\")\n",
    "        df_week2 = df_week2.add(df, fill_value=0)\n",
    "        print(f\"Final data has shape {df_week2.shape}\")\n",
    "        del df\n",
    "        gc.collect()"
   ]
  },
  {
   "cell_type": "code",
   "execution_count": 12,
   "metadata": {},
   "outputs": [],
   "source": [
    "if not os.path.exists(dest_file):\n",
    "    df_week2.to_csv(dest_file)\n",
    "    del df_week2\n",
    "    gc.collect()"
   ]
  },
  {
   "cell_type": "markdown",
   "metadata": {},
   "source": [
    "## Trento"
   ]
  },
  {
   "cell_type": "code",
   "execution_count": 13,
   "metadata": {},
   "outputs": [
    {
     "name": "stdout",
     "output_type": "stream",
     "text": [
      "Reading data ../data/tn_to_tn/TNtoTN-2013-12-08.txt\n",
      "Aggregating data.\n",
      "Saving data.\n",
      "Deleting source data.\n",
      "Done\n",
      "Reading data ../data/tn_to_tn/TNtoTN-2013-12-11.txt\n",
      "Aggregating data.\n",
      "Saving data.\n",
      "Deleting source data.\n",
      "Done\n",
      "Reading data ../data/tn_to_tn/TNtoTN-2013-12-12.txt\n",
      "Aggregating data.\n",
      "Saving data.\n",
      "Deleting source data.\n",
      "Done\n",
      "Reading data ../data/tn_to_tn/TNtoTN-2013-12-13.txt\n",
      "Aggregating data.\n",
      "Saving data.\n",
      "Deleting source data.\n",
      "Done\n",
      "Reading data ../data/tn_to_tn/TNtoTN-2013-12-14.txt\n",
      "Aggregating data.\n",
      "Saving data.\n",
      "Deleting source data.\n",
      "Done\n"
     ]
    }
   ],
   "source": [
    "columns = ['time_interval',\n",
    "           'square_id1',\n",
    "           'square_id2',\n",
    "           'strength']\n",
    "sum_cols = ['strength']\n",
    "day = datetime(2013, 11, 18)\n",
    "for i in range(30):\n",
    "    source_file = f\"../data/tn_to_tn/TNtoTN-{day.strftime('%Y-%m-%d')}.txt\"\n",
    "    dest_file = f\"../data/tn_to_tn/tn_to_tn_{day.strftime('%Y%m%d')}.csv\"\n",
    "    if os.path.exists(source_file) and not os.path.exists(dest_file):\n",
    "        print(f\"Reading data {source_file}\")\n",
    "        data = pd.read_csv(source_file, \n",
    "                           sep='\\t',\n",
    "                           names=columns)\n",
    "        print('Aggregating data.')\n",
    "        data = data.groupby(['square_id1', 'square_id2'])[sum_cols].sum()\n",
    "        print('Saving data.')\n",
    "        data.to_csv(dest_file)\n",
    "        del data\n",
    "        print('Deleting source data.')\n",
    "        os.remove(source_file)\n",
    "        gc.collect()\n",
    "        print('Done')\n",
    "    day = day + relativedelta(days=1)"
   ]
  },
  {
   "cell_type": "markdown",
   "metadata": {},
   "source": [
    "### Grouping week1"
   ]
  },
  {
   "cell_type": "code",
   "execution_count": 14,
   "metadata": {},
   "outputs": [],
   "source": [
    "city = 'tn'\n",
    "dest_file = f\"../data/{city}_to_{city}/{city}_to_{city}_week1.csv\"\n",
    "if not os.path.exists(dest_file):\n",
    "    day = datetime(2013, 11, 18)\n",
    "    source_file = f\"../data/{city}_to_{city}/{city}_to_{city}_{day.strftime('%Y%m%d')}.csv\"\n",
    "    dest_file = f\"../data/{city}_to_{city}/{city}_to_{city}_week1.csv\"\n",
    "    df_week1 = pd.read_csv(source_file, index_col=['square_id1', 'square_id2'])\n",
    "    print(df_week1.shape)\n",
    "    df_week1.head()"
   ]
  },
  {
   "cell_type": "code",
   "execution_count": 15,
   "metadata": {},
   "outputs": [],
   "source": [
    "if not os.path.exists(dest_file):\n",
    "    for i in range(1, 7):\n",
    "        day = day + relativedelta(days=1)\n",
    "        print(f\"Reading day {day.strftime('%Y%m%d')}\")\n",
    "        source_file = f\"../data/{city}_to_{city}/{city}_to_{city}_{day.strftime('%Y%m%d')}.csv\"\n",
    "        df = pd.read_csv(source_file, index_col=['square_id1', 'square_id2'])\n",
    "        print(f\"Day data has shape {df.shape}\")\n",
    "        df_week1 = df_week1.add(df, fill_value=0)\n",
    "        print(f\"Final data has shape {df_week1.shape}\")\n",
    "        del df\n",
    "        gc.collect()"
   ]
  },
  {
   "cell_type": "code",
   "execution_count": 16,
   "metadata": {},
   "outputs": [],
   "source": [
    "if not os.path.exists(dest_file):\n",
    "    df_week1.head()"
   ]
  },
  {
   "cell_type": "code",
   "execution_count": 17,
   "metadata": {},
   "outputs": [],
   "source": [
    "if not os.path.exists(dest_file):\n",
    "    df_week1.to_csv(dest_file)\n",
    "    del df_week1\n",
    "    gc.collect()"
   ]
  },
  {
   "cell_type": "markdown",
   "metadata": {},
   "source": [
    "### Grouping week2"
   ]
  },
  {
   "cell_type": "code",
   "execution_count": 18,
   "metadata": {},
   "outputs": [
    {
     "name": "stdout",
     "output_type": "stream",
     "text": [
      "(10124043, 1)\n"
     ]
    }
   ],
   "source": [
    "city = 'tn'\n",
    "dest_file = f\"../data/{city}_to_{city}/{city}_to_{city}_week2.csv\"\n",
    "if not os.path.exists(dest_file):\n",
    "    day = datetime(2013, 12, 8)\n",
    "    source_file = f\"../data/{city}_to_{city}/{city}_to_{city}_{day.strftime('%Y%m%d')}.csv\"\n",
    "    df_week2 = pd.read_csv(source_file, index_col=['square_id1', 'square_id2'])\n",
    "    print(df_week2.shape)\n",
    "    df_week2.head()"
   ]
  },
  {
   "cell_type": "code",
   "execution_count": 19,
   "metadata": {},
   "outputs": [
    {
     "name": "stdout",
     "output_type": "stream",
     "text": [
      "Reading day 20131209\n",
      "Day data has shape (13319378, 1)\n",
      "Final data has shape (15545184, 1)\n",
      "Reading day 20131210\n",
      "Day data has shape (13427050, 1)\n",
      "Final data has shape (18424073, 1)\n",
      "Reading day 20131211\n",
      "Day data has shape (13661584, 1)\n",
      "Final data has shape (20508314, 1)\n",
      "Reading day 20131212\n",
      "Day data has shape (13239598, 1)\n",
      "Final data has shape (21826935, 1)\n",
      "Reading day 20131213\n",
      "Day data has shape (13322550, 1)\n",
      "Final data has shape (22965401, 1)\n",
      "Reading day 20131214\n",
      "Day data has shape (11228278, 1)\n",
      "Final data has shape (23610829, 1)\n"
     ]
    }
   ],
   "source": [
    "if not os.path.exists(dest_file):\n",
    "    for i in range(1, 7):\n",
    "        day = day + relativedelta(days=1)\n",
    "        print(f\"Reading day {day.strftime('%Y%m%d')}\")\n",
    "        source_file = f\"../data/{city}_to_{city}/{city}_to_{city}_{day.strftime('%Y%m%d')}.csv\"\n",
    "        df = pd.read_csv(source_file, index_col=['square_id1', 'square_id2'])\n",
    "        print(f\"Day data has shape {df.shape}\")\n",
    "        df_week2 = df_week2.add(df, fill_value=0)\n",
    "        print(f\"Final data has shape {df_week2.shape}\")\n",
    "        del df\n",
    "        gc.collect()"
   ]
  },
  {
   "cell_type": "code",
   "execution_count": 20,
   "metadata": {},
   "outputs": [],
   "source": [
    "if not os.path.exists(dest_file):\n",
    "    df_week2.to_csv(dest_file)\n",
    "    del df_week2\n",
    "    gc.collect()"
   ]
  }
 ],
 "metadata": {
  "kernelspec": {
   "display_name": "Python 3",
   "language": "python",
   "name": "python3"
  },
  "language_info": {
   "codemirror_mode": {
    "name": "ipython",
    "version": 3
   },
   "file_extension": ".py",
   "mimetype": "text/x-python",
   "name": "python",
   "nbconvert_exporter": "python",
   "pygments_lexer": "ipython3",
   "version": "3.6.9"
  }
 },
 "nbformat": 4,
 "nbformat_minor": 4
}
