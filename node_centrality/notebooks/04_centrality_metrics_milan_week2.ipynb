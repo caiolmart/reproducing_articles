{
 "cells": [
  {
   "cell_type": "code",
   "execution_count": 1,
   "metadata": {},
   "outputs": [],
   "source": [
    "import pandas as pd\n",
    "import numpy as np\n",
    "import networkx as nx\n",
    "import matplotlib.pyplot as plt\n",
    "import seaborn as sns\n",
    "import gc\n",
    "import pickle"
   ]
  },
  {
   "cell_type": "markdown",
   "metadata": {},
   "source": [
    "## Milan"
   ]
  },
  {
   "cell_type": "markdown",
   "metadata": {},
   "source": [
    "### Week 2"
   ]
  },
  {
   "cell_type": "code",
   "execution_count": 2,
   "metadata": {},
   "outputs": [
    {
     "name": "stdout",
     "output_type": "stream",
     "text": [
      "(76226741, 3)\n"
     ]
    },
    {
     "data": {
      "text/html": [
       "<div>\n",
       "<style scoped>\n",
       "    .dataframe tbody tr th:only-of-type {\n",
       "        vertical-align: middle;\n",
       "    }\n",
       "\n",
       "    .dataframe tbody tr th {\n",
       "        vertical-align: top;\n",
       "    }\n",
       "\n",
       "    .dataframe thead th {\n",
       "        text-align: right;\n",
       "    }\n",
       "</style>\n",
       "<table border=\"1\" class=\"dataframe\">\n",
       "  <thead>\n",
       "    <tr style=\"text-align: right;\">\n",
       "      <th></th>\n",
       "      <th>square_id1</th>\n",
       "      <th>square_id2</th>\n",
       "      <th>strength</th>\n",
       "    </tr>\n",
       "  </thead>\n",
       "  <tbody>\n",
       "    <tr>\n",
       "      <th>0</th>\n",
       "      <td>1</td>\n",
       "      <td>1</td>\n",
       "      <td>0.118609</td>\n",
       "    </tr>\n",
       "    <tr>\n",
       "      <th>1</th>\n",
       "      <td>1</td>\n",
       "      <td>2</td>\n",
       "      <td>0.121075</td>\n",
       "    </tr>\n",
       "    <tr>\n",
       "      <th>2</th>\n",
       "      <td>1</td>\n",
       "      <td>3</td>\n",
       "      <td>0.123701</td>\n",
       "    </tr>\n",
       "    <tr>\n",
       "      <th>3</th>\n",
       "      <td>1</td>\n",
       "      <td>4</td>\n",
       "      <td>0.111464</td>\n",
       "    </tr>\n",
       "    <tr>\n",
       "      <th>4</th>\n",
       "      <td>1</td>\n",
       "      <td>5</td>\n",
       "      <td>0.102187</td>\n",
       "    </tr>\n",
       "  </tbody>\n",
       "</table>\n",
       "</div>"
      ],
      "text/plain": [
       "   square_id1  square_id2  strength\n",
       "0           1           1  0.118609\n",
       "1           1           2  0.121075\n",
       "2           1           3  0.123701\n",
       "3           1           4  0.111464\n",
       "4           1           5  0.102187"
      ]
     },
     "execution_count": 2,
     "metadata": {},
     "output_type": "execute_result"
    }
   ],
   "source": [
    "week = 2\n",
    "city = 'mi'\n",
    "max_id = 10000\n",
    "data = pd.read_csv(f'../data/{city}_to_{city}/{city}_to_{city}_week{week}.csv')\n",
    "print(data.shape)\n",
    "data.head()"
   ]
  },
  {
   "cell_type": "code",
   "execution_count": 3,
   "metadata": {},
   "outputs": [],
   "source": [
    "with open(f'hotspots_{city}.pkl', 'rb') as file:\n",
    "    hotspots = pickle.load(file)"
   ]
  },
  {
   "cell_type": "markdown",
   "metadata": {},
   "source": [
    "#### Degree Centrality Uncleaned"
   ]
  },
  {
   "cell_type": "code",
   "execution_count": 4,
   "metadata": {},
   "outputs": [],
   "source": [
    "degree_centralities = list()\n",
    "for hp in hotspots:\n",
    "    degree_centralities.append(data[(data.square_id1 == hp) &  \n",
    "                                    (~(data.square_id2 == hp))].strength.sum())"
   ]
  },
  {
   "cell_type": "code",
   "execution_count": 5,
   "metadata": {},
   "outputs": [
    {
     "data": {
      "image/png": "[encoded data removed]",
      "text/plain": [
       "<Figure size 504x360 with 1 Axes>"
      ]
     },
     "metadata": {
      "needs_background": "light"
     },
     "output_type": "display_data"
    }
   ],
   "source": [
    "plt.figure(figsize=(7,5))\n",
    "plt.title('Degree Centrality')\n",
    "plt.bar(range(len(degree_centralities)), degree_centralities, color='red')\n",
    "plt.xticks(range(len(degree_centralities)), hotspots, rotation=45)\n",
    "plt.savefig(f'../plots/degree_centrality_{city}_week{week}_uncleaned.png')"
   ]
  },
  {
   "cell_type": "markdown",
   "metadata": {},
   "source": [
    "#### Cleaning Data"
   ]
  },
  {
   "cell_type": "code",
   "execution_count": 6,
   "metadata": {},
   "outputs": [
    {
     "name": "stdout",
     "output_type": "stream",
     "text": [
      "(400, 3)\n"
     ]
    },
    {
     "data": {
      "text/html": [
       "<div>\n",
       "<style scoped>\n",
       "    .dataframe tbody tr th:only-of-type {\n",
       "        vertical-align: middle;\n",
       "    }\n",
       "\n",
       "    .dataframe tbody tr th {\n",
       "        vertical-align: top;\n",
       "    }\n",
       "\n",
       "    .dataframe thead th {\n",
       "        text-align: right;\n",
       "    }\n",
       "</style>\n",
       "<table border=\"1\" class=\"dataframe\">\n",
       "  <thead>\n",
       "    <tr style=\"text-align: right;\">\n",
       "      <th></th>\n",
       "      <th>square_id1</th>\n",
       "      <th>square_id2</th>\n",
       "      <th>strength</th>\n",
       "    </tr>\n",
       "  </thead>\n",
       "  <tbody>\n",
       "    <tr>\n",
       "      <th>34726158</th>\n",
       "      <td>4459</td>\n",
       "      <td>4459</td>\n",
       "      <td>93.763392</td>\n",
       "    </tr>\n",
       "    <tr>\n",
       "      <th>34726518</th>\n",
       "      <td>4459</td>\n",
       "      <td>4855</td>\n",
       "      <td>3.418078</td>\n",
       "    </tr>\n",
       "    <tr>\n",
       "      <th>34726519</th>\n",
       "      <td>4459</td>\n",
       "      <td>4856</td>\n",
       "      <td>4.297780</td>\n",
       "    </tr>\n",
       "    <tr>\n",
       "      <th>34726520</th>\n",
       "      <td>4459</td>\n",
       "      <td>4857</td>\n",
       "      <td>4.034726</td>\n",
       "    </tr>\n",
       "    <tr>\n",
       "      <th>34726608</th>\n",
       "      <td>4459</td>\n",
       "      <td>4955</td>\n",
       "      <td>2.256819</td>\n",
       "    </tr>\n",
       "  </tbody>\n",
       "</table>\n",
       "</div>"
      ],
      "text/plain": [
       "          square_id1  square_id2   strength\n",
       "34726158        4459        4459  93.763392\n",
       "34726518        4459        4855   3.418078\n",
       "34726519        4459        4856   4.297780\n",
       "34726520        4459        4857   4.034726\n",
       "34726608        4459        4955   2.256819"
      ]
     },
     "execution_count": 6,
     "metadata": {},
     "output_type": "execute_result"
    }
   ],
   "source": [
    "data_cleaned = data[(data.square_id1.isin(hotspots)) & \n",
    "                    (data.square_id2.isin(hotspots))]\n",
    "print(data_cleaned.shape)\n",
    "data_cleaned.head()"
   ]
  },
  {
   "cell_type": "markdown",
   "metadata": {},
   "source": [
    "#### Degree Centrality Clean"
   ]
  },
  {
   "cell_type": "code",
   "execution_count": 7,
   "metadata": {},
   "outputs": [],
   "source": [
    "degree_centralities = list()\n",
    "for hp in hotspots:\n",
    "    degree_centralities.append(data_cleaned[(data_cleaned.square_id1 == hp) &  \n",
    "                                            (~(data_cleaned.square_id2 == hp))].strength.sum())"
   ]
  },
  {
   "cell_type": "code",
   "execution_count": 8,
   "metadata": {},
   "outputs": [
    {
     "data": {
      "image/png": "[encoded data removed]",
      "text/plain": [
       "<Figure size 504x360 with 1 Axes>"
      ]
     },
     "metadata": {
      "needs_background": "light"
     },
     "output_type": "display_data"
    }
   ],
   "source": [
    "plt.figure(figsize=(7,5))\n",
    "plt.title('Degree Centrality')\n",
    "plt.bar(range(len(degree_centralities)), degree_centralities, color='red')\n",
    "plt.xticks(range(len(degree_centralities)), hotspots, rotation=45)\n",
    "plt.savefig(f'../plots/degree_centrality_{city}_week{week}.png')"
   ]
  },
  {
   "cell_type": "markdown",
   "metadata": {},
   "source": [
    "#### Building Graph"
   ]
  },
  {
   "cell_type": "code",
   "execution_count": 9,
   "metadata": {},
   "outputs": [],
   "source": [
    "G = nx.DiGraph()"
   ]
  },
  {
   "cell_type": "code",
   "execution_count": 10,
   "metadata": {},
   "outputs": [],
   "source": [
    "for row in data_cleaned.values:\n",
    "    G.add_edge(row[0], row[1], strength=row[2])"
   ]
  },
  {
   "cell_type": "markdown",
   "metadata": {},
   "source": [
    "#### Closeness Centrality"
   ]
  },
  {
   "cell_type": "code",
   "execution_count": 11,
   "metadata": {},
   "outputs": [],
   "source": [
    "closeness_centralities = list()\n",
    "for hp in hotspots:\n",
    "    cc = nx.closeness_centrality(G, hp, distance='strength') / 19\n",
    "    closeness_centralities.append(cc)"
   ]
  },
  {
   "cell_type": "code",
   "execution_count": 12,
   "metadata": {},
   "outputs": [
    {
     "data": {
      "image/png": "[encoded data removed]",
      "text/plain": [
       "<Figure size 504x360 with 1 Axes>"
      ]
     },
     "metadata": {
      "needs_background": "light"
     },
     "output_type": "display_data"
    }
   ],
   "source": [
    "plt.figure(figsize=(7,5))\n",
    "plt.title('Closeness Centrality')\n",
    "plt.bar(range(len(closeness_centralities)), closeness_centralities, color='red')\n",
    "plt.xticks(range(len(closeness_centralities)), hotspots, rotation=45)\n",
    "plt.savefig(f'../plots/closeness_centrality_{city}_week{week}.png')"
   ]
  },
  {
   "cell_type": "markdown",
   "metadata": {},
   "source": [
    "#### Betweenness Centrality"
   ]
  },
  {
   "cell_type": "code",
   "execution_count": 13,
   "metadata": {},
   "outputs": [],
   "source": [
    "betweenness_centrality = nx.betweenness_centrality(G, normalized=False, weight='strength')"
   ]
  },
  {
   "cell_type": "code",
   "execution_count": 14,
   "metadata": {},
   "outputs": [
    {
     "data": {
      "image/png": "[encoded data removed]",
      "text/plain": [
       "<Figure size 504x360 with 1 Axes>"
      ]
     },
     "metadata": {
      "needs_background": "light"
     },
     "output_type": "display_data"
    }
   ],
   "source": [
    "plt.figure(figsize=(7,5))\n",
    "plt.title('Betweenness Centrality')\n",
    "plt.bar(range(len(betweenness_centrality)), betweenness_centrality.values(), color='red')\n",
    "plt.xticks(range(len(betweenness_centrality)), [int(x) for x in betweenness_centrality.keys()], rotation=45)\n",
    "plt.savefig(f'../plots/betweenness_centrality_{city}_week{week}.png')"
   ]
  },
  {
   "cell_type": "markdown",
   "metadata": {},
   "source": [
    "#### PageRank Centrality"
   ]
  },
  {
   "cell_type": "code",
   "execution_count": 15,
   "metadata": {},
   "outputs": [
    {
     "data": {
      "text/plain": [
       "{4459.0: 0.026095421489208678,\n",
       " 4855.0: 0.048986095600313674,\n",
       " 4856.0: 0.04956227308950289,\n",
       " 4857.0: 0.04013892340467469,\n",
       " 4955.0: 0.03362145301892932,\n",
       " 4956.0: 0.03825427558120984,\n",
       " 4961.0: 0.03192286866020586,\n",
       " 5059.0: 0.08844171673752117,\n",
       " 5061.0: 0.06080775247588654,\n",
       " 5159.0: 0.07631325391015112,\n",
       " 5161.0: 0.09120482562612901,\n",
       " 5162.0: 0.045866344985766964,\n",
       " 5256.0: 0.03837683076848882,\n",
       " 5258.0: 0.0398163666063544,\n",
       " 5259.0: 0.08507946009787463,\n",
       " 5262.0: 0.053017478703107836,\n",
       " 5758.0: 0.02658964805269159,\n",
       " 5857.0: 0.032681701856886576,\n",
       " 6058.0: 0.04855464813315774,\n",
       " 6064.0: 0.044668661201938735}"
      ]
     },
     "execution_count": 15,
     "metadata": {},
     "output_type": "execute_result"
    }
   ],
   "source": [
    "pagerank_centrality = nx.pagerank(G, weight='strength')\n",
    "pagerank_centrality"
   ]
  },
  {
   "cell_type": "code",
   "execution_count": 16,
   "metadata": {},
   "outputs": [
    {
     "data": {
      "image/png": "[encoded data removed]",
      "text/plain": [
       "<Figure size 504x360 with 1 Axes>"
      ]
     },
     "metadata": {
      "needs_background": "light"
     },
     "output_type": "display_data"
    }
   ],
   "source": [
    "plt.figure(figsize=(7,5))\n",
    "plt.title('PageRank Centrality')\n",
    "plt.bar(range(len(pagerank_centrality)), pagerank_centrality.values(), color='red')\n",
    "plt.xticks(range(len(pagerank_centrality)), [int(x) for x in pagerank_centrality.keys()], rotation=45)\n",
    "plt.savefig(f'../plots/pagerank_centrality_{city}_week{week}.png')"
   ]
  },
  {
   "cell_type": "markdown",
   "metadata": {},
   "source": [
    "#### Eigenvector Centrality"
   ]
  },
  {
   "cell_type": "code",
   "execution_count": 17,
   "metadata": {
    "scrolled": true
   },
   "outputs": [
    {
     "data": {
      "text/plain": [
       "{4459.0: 0.009965556720611387,\n",
       " 4855.0: 0.031812782046853894,\n",
       " 4856.0: 0.033194362873918394,\n",
       " 4857.0: 0.03410175140797127,\n",
       " 4955.0: 0.016046995033421736,\n",
       " 4956.0: 0.024542219771690563,\n",
       " 4961.0: 0.054834102339583045,\n",
       " 5059.0: 0.4769483303051264,\n",
       " 5061.0: 0.2170942869605453,\n",
       " 5159.0: 0.4062786727097794,\n",
       " 5161.0: 0.5245467460142372,\n",
       " 5162.0: 0.10861342537319157,\n",
       " 5256.0: 0.029695221261724636,\n",
       " 5258.0: 0.09340894997913375,\n",
       " 5259.0: 0.49197268903560587,\n",
       " 5262.0: 0.11606823382105044,\n",
       " 5758.0: 0.011870865228013798,\n",
       " 5857.0: 0.013389931069659675,\n",
       " 6058.0: 0.013167914021774387,\n",
       " 6064.0: 0.023010184037373135}"
      ]
     },
     "execution_count": 17,
     "metadata": {},
     "output_type": "execute_result"
    }
   ],
   "source": [
    "eigenvector_centrality = nx.eigenvector_centrality(G, weight='strength')\n",
    "eigenvector_centrality"
   ]
  },
  {
   "cell_type": "code",
   "execution_count": 18,
   "metadata": {},
   "outputs": [
    {
     "data": {
      "image/png": "[encoded data removed]",
      "text/plain": [
       "<Figure size 504x360 with 1 Axes>"
      ]
     },
     "metadata": {
      "needs_background": "light"
     },
     "output_type": "display_data"
    }
   ],
   "source": [
    "plt.figure(figsize=(7,5))\n",
    "plt.title('Eigenvector Centrality')\n",
    "plt.bar(range(len(eigenvector_centrality)), eigenvector_centrality.values(), color='red')\n",
    "plt.xticks(range(len(eigenvector_centrality)), [int(x) for x in eigenvector_centrality.keys()], rotation=45)\n",
    "plt.savefig(f'../plots/eigenvector_centrality_{city}_week{week}.png')"
   ]
  }
 ],
 "metadata": {
  "kernelspec": {
   "display_name": "Python 3",
   "language": "python",
   "name": "python3"
  },
  "language_info": {
   "codemirror_mode": {
    "name": "ipython",
    "version": 3
   },
   "file_extension": ".py",
   "mimetype": "text/x-python",
   "name": "python",
   "nbconvert_exporter": "python",
   "pygments_lexer": "ipython3",
   "version": "3.6.9"
  }
 },
 "nbformat": 4,
 "nbformat_minor": 4
}
