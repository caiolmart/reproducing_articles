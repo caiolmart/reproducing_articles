{
 "cells": [
  {
   "cell_type": "code",
   "execution_count": 1,
   "metadata": {},
   "outputs": [],
   "source": [
    "import sys\n",
    "import os\n",
    "import numpy as np\n",
    "import pandas as pd\n",
    "from datetime import datetime\n",
    "import matplotlib.pyplot as plt"
   ]
  },
  {
   "cell_type": "code",
   "execution_count": 2,
   "metadata": {},
   "outputs": [],
   "source": [
    "os.chdir('..')"
   ]
  },
  {
   "cell_type": "markdown",
   "metadata": {},
   "source": [
    "## Reading and preparing time"
   ]
  },
  {
   "cell_type": "code",
   "execution_count": 3,
   "metadata": {},
   "outputs": [
    {
     "name": "stdout",
     "output_type": "stream",
     "text": [
      "(35592, 5)\n"
     ]
    },
    {
     "data": {
      "text/html": [
       "<div>\n",
       "<style scoped>\n",
       "    .dataframe tbody tr th:only-of-type {\n",
       "        vertical-align: middle;\n",
       "    }\n",
       "\n",
       "    .dataframe tbody tr th {\n",
       "        vertical-align: top;\n",
       "    }\n",
       "\n",
       "    .dataframe thead th {\n",
       "        text-align: right;\n",
       "    }\n",
       "</style>\n",
       "<table border=\"1\" class=\"dataframe\">\n",
       "  <thead>\n",
       "    <tr style=\"text-align: right;\">\n",
       "      <th></th>\n",
       "      <th>source</th>\n",
       "      <th>target</th>\n",
       "      <th>rating</th>\n",
       "      <th>timestamp</th>\n",
       "      <th>datetime</th>\n",
       "    </tr>\n",
       "  </thead>\n",
       "  <tbody>\n",
       "    <tr>\n",
       "      <th>0</th>\n",
       "      <td>6</td>\n",
       "      <td>2</td>\n",
       "      <td>4</td>\n",
       "      <td>1.289242e+09</td>\n",
       "      <td>2010-11-08 16:45:11.728360</td>\n",
       "    </tr>\n",
       "    <tr>\n",
       "      <th>1</th>\n",
       "      <td>6</td>\n",
       "      <td>5</td>\n",
       "      <td>2</td>\n",
       "      <td>1.289242e+09</td>\n",
       "      <td>2010-11-08 16:45:41.533780</td>\n",
       "    </tr>\n",
       "    <tr>\n",
       "      <th>2</th>\n",
       "      <td>1</td>\n",
       "      <td>15</td>\n",
       "      <td>1</td>\n",
       "      <td>1.289243e+09</td>\n",
       "      <td>2010-11-08 17:05:40.390490</td>\n",
       "    </tr>\n",
       "    <tr>\n",
       "      <th>3</th>\n",
       "      <td>4</td>\n",
       "      <td>3</td>\n",
       "      <td>7</td>\n",
       "      <td>1.289245e+09</td>\n",
       "      <td>2010-11-08 17:41:17.369750</td>\n",
       "    </tr>\n",
       "    <tr>\n",
       "      <th>4</th>\n",
       "      <td>13</td>\n",
       "      <td>16</td>\n",
       "      <td>8</td>\n",
       "      <td>1.289254e+09</td>\n",
       "      <td>2010-11-08 20:10:54.447460</td>\n",
       "    </tr>\n",
       "  </tbody>\n",
       "</table>\n",
       "</div>"
      ],
      "text/plain": [
       "   source  target  rating     timestamp                   datetime\n",
       "0       6       2       4  1.289242e+09 2010-11-08 16:45:11.728360\n",
       "1       6       5       2  1.289242e+09 2010-11-08 16:45:41.533780\n",
       "2       1      15       1  1.289243e+09 2010-11-08 17:05:40.390490\n",
       "3       4       3       7  1.289245e+09 2010-11-08 17:41:17.369750\n",
       "4      13      16       8  1.289254e+09 2010-11-08 20:10:54.447460"
      ]
     },
     "execution_count": 3,
     "metadata": {},
     "output_type": "execute_result"
    }
   ],
   "source": [
    "FILE = 'data/raw/soc-sign-bitcoinotc.csv'\n",
    "COLUMNS = [\n",
    "    'source',\n",
    "    'target',\n",
    "    'rating',\n",
    "    'timestamp',\n",
    "]\n",
    "\n",
    "data = pd.read_csv(FILE, names=COLUMNS)\n",
    "data['datetime'] = data['timestamp'].apply(datetime.fromtimestamp)\n",
    "print(data.shape)\n",
    "data.head()"
   ]
  },
  {
   "cell_type": "markdown",
   "metadata": {},
   "source": [
    "## Basic stats"
   ]
  },
  {
   "cell_type": "code",
   "execution_count": 4,
   "metadata": {},
   "outputs": [
    {
     "data": {
      "text/plain": [
       "count    35592.000000\n",
       "mean      2353.847269\n",
       "std       1605.771178\n",
       "min          1.000000\n",
       "25%        988.000000\n",
       "50%       2125.000000\n",
       "75%       3722.000000\n",
       "max       6000.000000\n",
       "Name: source, dtype: float64"
      ]
     },
     "execution_count": 4,
     "metadata": {},
     "output_type": "execute_result"
    }
   ],
   "source": [
    "data['source'].describe()"
   ]
  },
  {
   "cell_type": "code",
   "execution_count": 5,
   "metadata": {},
   "outputs": [
    {
     "data": {
      "text/plain": [
       "count    35592.000000\n",
       "mean      2417.478254\n",
       "std       1658.232170\n",
       "min          1.000000\n",
       "25%        978.000000\n",
       "50%       2178.000000\n",
       "75%       3804.000000\n",
       "max       6005.000000\n",
       "Name: target, dtype: float64"
      ]
     },
     "execution_count": 5,
     "metadata": {},
     "output_type": "execute_result"
    }
   ],
   "source": [
    "data['target'].describe()"
   ]
  },
  {
   "cell_type": "code",
   "execution_count": 6,
   "metadata": {},
   "outputs": [
    {
     "data": {
      "text/plain": [
       "5881"
      ]
     },
     "execution_count": 6,
     "metadata": {},
     "output_type": "execute_result"
    }
   ],
   "source": [
    "pd.concat([data['source'], data['target']]).nunique()"
   ]
  },
  {
   "cell_type": "code",
   "execution_count": 7,
   "metadata": {},
   "outputs": [
    {
     "data": {
      "text/plain": [
       "count                          35592\n",
       "unique                         35592\n",
       "top       2011-06-10 01:45:39.187580\n",
       "freq                               1\n",
       "first     2010-11-08 16:45:11.728360\n",
       "last      2016-01-24 23:12:03.757280\n",
       "Name: datetime, dtype: object"
      ]
     },
     "execution_count": 7,
     "metadata": {},
     "output_type": "execute_result"
    }
   ],
   "source": [
    "data['datetime'].describe()"
   ]
  },
  {
   "cell_type": "code",
   "execution_count": 8,
   "metadata": {},
   "outputs": [
    {
     "data": {
      "text/plain": [
       "<matplotlib.axes._subplots.AxesSubplot at 0x7f0f46ca98e0>"
      ]
     },
     "execution_count": 8,
     "metadata": {},
     "output_type": "execute_result"
    },
    {
     "data": {
      "image/png": "[encoded data removed]",
      "text/plain": [
       "<Figure size 432x288 with 1 Axes>"
      ]
     },
     "metadata": {
      "needs_background": "light"
     },
     "output_type": "display_data"
    }
   ],
   "source": [
    "data['rating'].value_counts().sort_index().plot(kind='bar')"
   ]
  },
  {
   "cell_type": "markdown",
   "metadata": {},
   "source": [
    "## Separating data in time\n",
    "\n",
    "I want to separate the data in two:\n",
    "  \n",
    "  1. The transaction data, the graph that will be used for training\n",
    "  2. The label data.\n",
    "  \n",
    "They are splitted in time, the transactions in 1. will be used to infer the label in the future data (2.).\n",
    "\n",
    "Here I make choice close to the 60% of data as transactions."
   ]
  },
  {
   "cell_type": "code",
   "execution_count": 9,
   "metadata": {},
   "outputs": [
    {
     "data": {
      "text/plain": [
       "datetime_decile\n",
       "0   2011-06-04 09:40:15.375910\n",
       "1   2011-10-26 02:23:10.794050\n",
       "2   2012-06-06 20:31:33.957610\n",
       "3   2012-09-30 10:13:11.422800\n",
       "4   2013-01-16 22:31:06.345590\n",
       "5   2013-04-13 14:25:27.051470\n",
       "6   2013-07-19 08:24:16.020160\n",
       "7   2013-10-25 14:44:05.444880\n",
       "8   2014-04-24 08:40:22.692600\n",
       "9   2016-01-24 23:12:03.757280\n",
       "Name: datetime, dtype: datetime64[ns]"
      ]
     },
     "execution_count": 9,
     "metadata": {},
     "output_type": "execute_result"
    }
   ],
   "source": [
    "data['datetime_decile'] = pd.qcut(data['datetime'], 10, labels=False)\n",
    "data.groupby('datetime_decile')['datetime'].max()"
   ]
  },
  {
   "cell_type": "code",
   "execution_count": 10,
   "metadata": {},
   "outputs": [],
   "source": [
    "datetime_split = datetime(2013, 4, 14)\n",
    "transaction_data = data.loc[data['datetime'] < datetime_split, :]\n",
    "eval_data = data.loc[data['datetime'] >= datetime_split, :]"
   ]
  },
  {
   "cell_type": "markdown",
   "metadata": {},
   "source": [
    "## Labeling transactions\n",
    "\n",
    "As of the article, it is understood that:\n",
    "  \n",
    "  1. A rating 1 is neutral\n",
    "  2. A negative rating is negative\n",
    "  3. A rating bigger than 1 in positive. \n",
    "  \n",
    "This will be sumarize in the node level."
   ]
  },
  {
   "cell_type": "code",
   "execution_count": 11,
   "metadata": {},
   "outputs": [
    {
     "name": "stderr",
     "output_type": "stream",
     "text": [
      "/home/caiolmart/.local/lib/python3.8/site-packages/pandas/core/indexing.py:845: SettingWithCopyWarning: \n",
      "A value is trying to be set on a copy of a slice from a DataFrame.\n",
      "Try using .loc[row_indexer,col_indexer] = value instead\n",
      "\n",
      "See the caveats in the documentation: https://pandas.pydata.org/pandas-docs/stable/user_guide/indexing.html#returning-a-view-versus-a-copy\n",
      "  self.obj[key] = _infer_fill_value(value)\n",
      "/home/caiolmart/.local/lib/python3.8/site-packages/pandas/core/indexing.py:966: SettingWithCopyWarning: \n",
      "A value is trying to be set on a copy of a slice from a DataFrame.\n",
      "Try using .loc[row_indexer,col_indexer] = value instead\n",
      "\n",
      "See the caveats in the documentation: https://pandas.pydata.org/pandas-docs/stable/user_guide/indexing.html#returning-a-view-versus-a-copy\n",
      "  self.obj[item] = s\n"
     ]
    },
    {
     "data": {
      "text/plain": [
       "<matplotlib.axes._subplots.AxesSubplot at 0x7f0f444f3c40>"
      ]
     },
     "execution_count": 11,
     "metadata": {},
     "output_type": "execute_result"
    },
    {
     "data": {
      "image/png": "[encoded data removed]",
      "text/plain": [
       "<Figure size 432x288 with 1 Axes>"
      ]
     },
     "metadata": {
      "needs_background": "light"
     },
     "output_type": "display_data"
    }
   ],
   "source": [
    "def is_transaction_trustworthy(rating: int):\n",
    "    if rating > 1:\n",
    "        return 1\n",
    "    elif rating < 0:\n",
    "        return -1\n",
    "    return 0\n",
    "\n",
    "eval_data.loc[:, 'transaction_label'] = eval_data.loc[:, 'rating'].apply(is_transaction_trustworthy)\n",
    "eval_data['transaction_label'].value_counts().sort_index().plot(kind='bar')"
   ]
  },
  {
   "cell_type": "markdown",
   "metadata": {},
   "source": [
    "## Labeling nodes\n",
    "\n",
    "The summarization is as follows:\n",
    "\n",
    "  1. A node (target) with a negative rating from some user is considered risky.\n",
    "  2. A node with more than half of the transactions pointed to it as positive is considered trustworthy.\n",
    "  3. Unknown otherwise."
   ]
  },
  {
   "cell_type": "code",
   "execution_count": null,
   "metadata": {},
   "outputs": [],
   "source": [
    "def node_label(target_data: pd.DataFrame):\n",
    "    if target_data['transaction_label'].min() < 0:\n",
    "        return -1\n",
    "    elif target_data['transaction_label'].sum() > target_data.shape[0] / 2:\n",
    "        return 1\n",
    "    return 0\n",
    "\n",
    "node_labels = eval_data.groupby('target').apply(node_label)\n",
    "node_labels.value_counts().sort_index().plot(kind='bar')"
   ]
  },
  {
   "cell_type": "code",
   "execution_count": null,
   "metadata": {},
   "outputs": [],
   "source": [
    "node_labels.value_counts().sort_index() / node_labels.shape[0]"
   ]
  },
  {
   "cell_type": "markdown",
   "metadata": {},
   "source": [
    "#### Number of labeled nodes"
   ]
  },
  {
   "cell_type": "code",
   "execution_count": null,
   "metadata": {},
   "outputs": [],
   "source": [
    "node_labels.shape[0]"
   ]
  },
  {
   "cell_type": "code",
   "execution_count": null,
   "metadata": {},
   "outputs": [],
   "source": [
    "mask = transaction_data['target'].isin(node_labels.index.unique())\n",
    "transaction_data[mask]['target'].nunique()"
   ]
  },
  {
   "cell_type": "markdown",
   "metadata": {},
   "source": [
    "## Choosing the datetime split\n",
    "\n",
    "With my personal choice of time split I reached 2749 noded labels, but only 786 of those were in the transactions data. \n",
    "\n",
    "In the article it is mentioned that there were 1447 users, 5739 rating records and 20% risky nodes.\n",
    "\n",
    "I will try other time splits to reach these numbers."
   ]
  },
  {
   "cell_type": "code",
   "execution_count": null,
   "metadata": {},
   "outputs": [],
   "source": [
    "n_splits = 20\n",
    "quantiles = np.linspace(1 / n_splits, 1 - 1 / n_splits, n_splits - 1)\n",
    "quantiles"
   ]
  },
  {
   "cell_type": "code",
   "execution_count": null,
   "metadata": {},
   "outputs": [],
   "source": [
    "splits = data['datetime'].quantile(quantiles)\n",
    "splits"
   ]
  },
  {
   "cell_type": "code",
   "execution_count": null,
   "metadata": {},
   "outputs": [],
   "source": [
    "n_labels = []\n",
    "n_trainable_nodes = []\n",
    "\n",
    "for split in splits:\n",
    "    # Spliting data\n",
    "    transaction_data = data.loc[data['datetime'] < split, :]\n",
    "    eval_data = data.loc[data['datetime'] >= split, :]\n",
    "    \n",
    "    # Number of labelled nodes\n",
    "    eval_data.loc[:, 'transaction_label'] = eval_data.loc[:, 'rating'].apply(is_transaction_trustworthy)\n",
    "    node_labels = eval_data.groupby('target').apply(node_label)\n",
    "    n_labels.append(node_labels.shape[0])\n",
    "    \n",
    "    # Number of trainable nodes - Nodes that appear in both transaction and labelling data\n",
    "    mask = transaction_data['target'].isin(node_labels.index)\n",
    "    n_trainable_nodes.append(transaction_data[mask]['target'].nunique())"
   ]
  },
  {
   "cell_type": "code",
   "execution_count": null,
   "metadata": {
    "scrolled": true
   },
   "outputs": [],
   "source": [
    "max(n_trainable_nodes)"
   ]
  },
  {
   "cell_type": "code",
   "execution_count": null,
   "metadata": {},
   "outputs": [],
   "source": [
    "splits.iloc[np.argmax(n_trainable_nodes)]"
   ]
  },
  {
   "cell_type": "code",
   "execution_count": null,
   "metadata": {
    "scrolled": true
   },
   "outputs": [],
   "source": [
    "plt.figure(figsize=(8, 5))\n",
    "plt.title('Choosing best date split')\n",
    "plt.plot(splits, n_labels, label='Labelled Nodes', marker='^')\n",
    "plt.plot(splits, n_trainable_nodes, label='Trainable Nodes', marker='o')\n",
    "plt.hlines(max(n_trainable_nodes), \n",
    "           splits.iloc[0], \n",
    "           splits.iloc[-1],\n",
    "           ls='--',\n",
    "           alpha=0.5,\n",
    "           color='black')\n",
    "plt.xticks(rotation=45)\n",
    "plt.xlabel('Split date')\n",
    "plt.ylabel('Count')\n",
    "plt.legend()"
   ]
  },
  {
   "cell_type": "markdown",
   "metadata": {},
   "source": [
    "## Conclusion\n",
    "\n",
    "I could not reach the paper numbers. The best split I found give me 788 trainable data points. Which is quite few."
   ]
  }
 ],
 "metadata": {
  "kernelspec": {
   "display_name": "Python 3",
   "language": "python",
   "name": "python3"
  },
  "language_info": {
   "codemirror_mode": {
    "name": "ipython",
    "version": 3
   },
   "file_extension": ".py",
   "mimetype": "text/x-python",
   "name": "python",
   "nbconvert_exporter": "python",
   "pygments_lexer": "ipython3",
   "version": "3.8.5"
  }
 },
 "nbformat": 4,
 "nbformat_minor": 4
}
