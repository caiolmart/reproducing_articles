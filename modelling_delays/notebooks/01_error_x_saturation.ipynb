{
 "cells": [
  {
   "cell_type": "code",
   "execution_count": 1,
   "metadata": {},
   "outputs": [],
   "source": [
    "import pandas as pd\n",
    "import numpy as np\n",
    "import tensorflow as tf\n",
    "import sys\n",
    "import os\n",
    "\n",
    "from matplotlib import pyplot as plt\n",
    "from sklearn.model_selection import train_test_split"
   ]
  },
  {
   "cell_type": "markdown",
   "metadata": {},
   "source": [
    "## Dataset files"
   ]
  },
  {
   "cell_type": "code",
   "execution_count": 2,
   "metadata": {},
   "outputs": [
    {
     "data": {
      "text/plain": [
       "['dataScaleFree_10_10_7_16000_B.txt',\n",
       " 'dataScaleFree_10_10_12_16000_M.txt',\n",
       " 'dataScaleFree_10_10_13_16000_U.txt',\n",
       " 'dataScaleFree_10_10_54_16000_M.txt',\n",
       " 'dataScaleFree_10_10_2_16000_B.txt']"
      ]
     },
     "execution_count": 2,
     "metadata": {},
     "output_type": "execute_result"
    }
   ],
   "source": [
    "file_list = os.listdir('../data/saturation/datasets')\n",
    "file_list[:5]"
   ]
  },
  {
   "cell_type": "code",
   "execution_count": 3,
   "metadata": {},
   "outputs": [
    {
     "name": "stdout",
     "output_type": "stream",
     "text": [
      "File dataScaleFree_10_10_1_16000_U.txt in dir: True\n",
      "File dataScaleFree_10_10_2_16000_U.txt in dir: True\n",
      "File dataScaleFree_10_10_3_16000_U.txt in dir: True\n",
      "File dataScaleFree_10_10_4_16000_U.txt in dir: True\n",
      "File dataScaleFree_10_10_5_16000_U.txt in dir: True\n",
      "File dataScaleFree_10_10_6_16000_U.txt in dir: True\n",
      "File dataScaleFree_10_10_7_16000_U.txt in dir: True\n",
      "File dataScaleFree_10_10_8_16000_U.txt in dir: True\n",
      "File dataScaleFree_10_10_9_16000_U.txt in dir: True\n",
      "File dataScaleFree_10_10_10_16000_U.txt in dir: True\n",
      "File dataScaleFree_10_10_11_16000_U.txt in dir: True\n",
      "File dataScaleFree_10_10_12_16000_U.txt in dir: True\n",
      "File dataScaleFree_10_10_13_16000_U.txt in dir: True\n",
      "File dataScaleFree_10_10_14_16000_U.txt in dir: True\n",
      "File dataScaleFree_10_10_15_16000_U.txt in dir: True\n",
      "File dataScaleFree_10_10_16_16000_U.txt in dir: True\n",
      "File dataScaleFree_10_10_17_16000_U.txt in dir: True\n",
      "File dataScaleFree_10_10_18_16000_U.txt in dir: True\n",
      "File dataScaleFree_10_10_19_16000_U.txt in dir: True\n",
      "File dataScaleFree_10_10_20_16000_U.txt in dir: True\n"
     ]
    }
   ],
   "source": [
    "for i in range(1, 21):\n",
    "    file = f'dataScaleFree_10_10_{i}_16000_U.txt'\n",
    "    print(f'File {file} in dir: {file in file_list}')"
   ]
  },
  {
   "cell_type": "markdown",
   "metadata": {},
   "source": [
    "## Loss function"
   ]
  },
  {
   "cell_type": "code",
   "execution_count": 4,
   "metadata": {},
   "outputs": [],
   "source": [
    "import tensorflow.keras.backend as kb"
   ]
  },
  {
   "cell_type": "code",
   "execution_count": 5,
   "metadata": {},
   "outputs": [],
   "source": [
    "def custom_loss(y_true,y_pred):\n",
    "    custom_loss=kb.mean(kb.square(y_true-y_pred))\n",
    "    return custom_loss"
   ]
  },
  {
   "cell_type": "markdown",
   "metadata": {},
   "source": [
    "## One Hidden Layer Model"
   ]
  },
  {
   "cell_type": "code",
   "execution_count": 6,
   "metadata": {
    "scrolled": true
   },
   "outputs": [
    {
     "name": "stdout",
     "output_type": "stream",
     "text": [
      "1 tf.Tensor(2.7132919323968653e-05, shape=(), dtype=float64)\n",
      "2 tf.Tensor(1.8432557526155823e-05, shape=(), dtype=float64)\n",
      "3 tf.Tensor(2.1635962692220048e-05, shape=(), dtype=float64)\n",
      "4 tf.Tensor(3.486140770006545e-05, shape=(), dtype=float64)\n",
      "5 tf.Tensor(6.504803909303167e-05, shape=(), dtype=float64)\n",
      "6 tf.Tensor(0.00010697998905584423, shape=(), dtype=float64)\n",
      "7 tf.Tensor(0.00019521623391039874, shape=(), dtype=float64)\n",
      "8 tf.Tensor(0.0003862335270674476, shape=(), dtype=float64)\n",
      "9 tf.Tensor(0.0008144726264583031, shape=(), dtype=float64)\n",
      "10 tf.Tensor(0.0017334620351826947, shape=(), dtype=float64)\n",
      "11 tf.Tensor(0.005684019583902266, shape=(), dtype=float64)\n",
      "12 tf.Tensor(0.02636248751074505, shape=(), dtype=float64)\n",
      "13 tf.Tensor(0.1017571161248787, shape=(), dtype=float64)\n",
      "14 tf.Tensor(0.28815700907331904, shape=(), dtype=float64)\n",
      "15 tf.Tensor(0.6096876921481527, shape=(), dtype=float64)\n",
      "16 tf.Tensor(1.1152145637720028, shape=(), dtype=float64)\n",
      "17 tf.Tensor(1.8451065443984227, shape=(), dtype=float64)\n",
      "18 tf.Tensor(2.8283740190933155, shape=(), dtype=float64)\n",
      "19 tf.Tensor(4.031201550839624, shape=(), dtype=float64)\n",
      "20 tf.Tensor(5.411609301502563, shape=(), dtype=float64)\n"
     ]
    }
   ],
   "source": [
    "error_dict = {}\n",
    "for i in range(1, 21):\n",
    "    file = f'../data/saturation/datasets/dataScaleFree_10_10_{i}_16000_U.txt'\n",
    "    data = pd.read_table(file, sep=' ', header=None)\n",
    "    \n",
    "    X = data.iloc[:, :100]\n",
    "    y = data.iloc[:, 100:200]\n",
    "    \n",
    "    X_train, X_test, y_train, y_test = train_test_split(X, y, test_size=0.2, random_state=42)\n",
    "    X_train, X_val, y_train, y_val = train_test_split(X_train, y_train, test_size=0.2 / 0.8, random_state=42)\n",
    "    \n",
    "    X_train = np.array(X_train)\n",
    "    y_train = np.array(y_train)\n",
    "\n",
    "    X_val = np.array(X_val)\n",
    "    y_val = np.array(y_val)\n",
    "\n",
    "    X_test = np.array(X_test)\n",
    "    y_test = np.array(y_test)\n",
    "    \n",
    "    model = tf.keras.models.Sequential([\n",
    "      tf.keras.layers.Dense(100, \n",
    "                            input_shape=(100,), \n",
    "                            activation='sigmoid',\n",
    "                            kernel_regularizer=tf.keras.regularizers.l2(0.00003)),\n",
    "      tf.keras.layers.Dense(100, \n",
    "                            activation='sigmoid',\n",
    "                            kernel_regularizer=tf.keras.regularizers.l2(0.00003))\n",
    "    ])\n",
    "\n",
    "    model.compile(optimizer='adam',\n",
    "                  loss=custom_loss)\n",
    "\n",
    "    callback = tf.keras.callbacks.EarlyStopping(monitor='val_loss', patience=5)\n",
    "    model.fit(X_train, \n",
    "              y_train, \n",
    "              epochs=7500000, \n",
    "              callbacks=[callback], \n",
    "              validation_data=(X_val, y_val),\n",
    "              verbose=0)\n",
    "    \n",
    "    test_error = custom_loss(y_test, model.predict(X_test))\n",
    "    print(i, test_error)\n",
    "    error_dict[i] = test_error"
   ]
  },
  {
   "cell_type": "code",
   "execution_count": 7,
   "metadata": {
    "scrolled": true
   },
   "outputs": [
    {
     "name": "stdout",
     "output_type": "stream",
     "text": [
      "1 tf.Tensor(3.300801580141056e-05, shape=(), dtype=float64)\n",
      "2 tf.Tensor(2.400410622997377e-05, shape=(), dtype=float64)\n",
      "3 tf.Tensor(2.898516580454646e-05, shape=(), dtype=float64)\n",
      "4 tf.Tensor(4.1304243926201994e-05, shape=(), dtype=float64)\n",
      "5 tf.Tensor(6.79039421381723e-05, shape=(), dtype=float64)\n",
      "6 tf.Tensor(0.00012138802777017098, shape=(), dtype=float64)\n",
      "7 tf.Tensor(0.00019669591095911485, shape=(), dtype=float64)\n",
      "8 tf.Tensor(0.0002864765204125403, shape=(), dtype=float64)\n",
      "9 tf.Tensor(0.00037634444325235135, shape=(), dtype=float64)\n",
      "10 tf.Tensor(0.0007479982200028114, shape=(), dtype=float64)\n",
      "11 tf.Tensor(0.0036205489151092288, shape=(), dtype=float64)\n",
      "12 tf.Tensor(0.008129793315482194, shape=(), dtype=float64)\n",
      "13 tf.Tensor(0.012076949321432055, shape=(), dtype=float64)\n",
      "14 tf.Tensor(0.02251470156209572, shape=(), dtype=float64)\n",
      "15 tf.Tensor(0.051471363822857885, shape=(), dtype=float64)\n",
      "16 tf.Tensor(0.03795299169764946, shape=(), dtype=float64)\n",
      "17 tf.Tensor(0.05334915457406386, shape=(), dtype=float64)\n",
      "18 tf.Tensor(0.050326534056628604, shape=(), dtype=float64)\n",
      "19 tf.Tensor(0.05353944557959681, shape=(), dtype=float64)\n",
      "20 tf.Tensor(0.055810134412903216, shape=(), dtype=float64)\n"
     ]
    }
   ],
   "source": [
    "error_dict_linear = {}\n",
    "for i in range(1, 21):\n",
    "    file = f'../data/saturation/datasets/dataScaleFree_10_10_{i}_16000_U.txt'\n",
    "    data = pd.read_table(file, sep=' ', header=None)\n",
    "    \n",
    "    X = data.iloc[:, :100]\n",
    "    y = data.iloc[:, 100:200]\n",
    "    \n",
    "    X_train, X_test, y_train, y_test = train_test_split(X, y, test_size=0.2, random_state=42)\n",
    "    X_train, X_val, y_train, y_val = train_test_split(X_train, y_train, test_size=0.2 / 0.8, random_state=42)\n",
    "    \n",
    "    X_train = np.array(X_train)\n",
    "    y_train = np.array(y_train)\n",
    "\n",
    "    X_val = np.array(X_val)\n",
    "    y_val = np.array(y_val)\n",
    "\n",
    "    X_test = np.array(X_test)\n",
    "    y_test = np.array(y_test)\n",
    "    \n",
    "    model = tf.keras.models.Sequential([\n",
    "      tf.keras.layers.Dense(100, \n",
    "                            input_shape=(100,), \n",
    "                            activation='sigmoid',\n",
    "                            kernel_regularizer=tf.keras.regularizers.l2(0.00003)),\n",
    "      tf.keras.layers.Dense(100, \n",
    "                            activation='linear',\n",
    "                            kernel_regularizer=tf.keras.regularizers.l2(0.00003))\n",
    "    ])\n",
    "\n",
    "    model.compile(optimizer='adam',\n",
    "                  loss=custom_loss)\n",
    "\n",
    "    callback = tf.keras.callbacks.EarlyStopping(monitor='val_loss', patience=5)\n",
    "    model.fit(X_train, \n",
    "              y_train, \n",
    "              epochs=7500000, \n",
    "              callbacks=[callback], \n",
    "              validation_data=(X_val, y_val),\n",
    "              verbose=0)\n",
    "    \n",
    "    test_error = custom_loss(y_test, model.predict(X_test))\n",
    "    print(i, test_error)\n",
    "    error_dict_linear[i] = test_error"
   ]
  },
  {
   "cell_type": "code",
   "execution_count": 8,
   "metadata": {
    "scrolled": true
   },
   "outputs": [
    {
     "data": {
      "text/plain": [
       "{1: <tf.Tensor: shape=(), dtype=float64, numpy=3.300801580141056e-05>,\n",
       " 2: <tf.Tensor: shape=(), dtype=float64, numpy=2.400410622997377e-05>,\n",
       " 3: <tf.Tensor: shape=(), dtype=float64, numpy=2.898516580454646e-05>,\n",
       " 4: <tf.Tensor: shape=(), dtype=float64, numpy=4.1304243926201994e-05>,\n",
       " 5: <tf.Tensor: shape=(), dtype=float64, numpy=6.79039421381723e-05>,\n",
       " 6: <tf.Tensor: shape=(), dtype=float64, numpy=0.00012138802777017098>,\n",
       " 7: <tf.Tensor: shape=(), dtype=float64, numpy=0.00019669591095911485>,\n",
       " 8: <tf.Tensor: shape=(), dtype=float64, numpy=0.0002864765204125403>,\n",
       " 9: <tf.Tensor: shape=(), dtype=float64, numpy=0.00037634444325235135>,\n",
       " 10: <tf.Tensor: shape=(), dtype=float64, numpy=0.0007479982200028114>,\n",
       " 11: <tf.Tensor: shape=(), dtype=float64, numpy=0.0036205489151092288>,\n",
       " 12: <tf.Tensor: shape=(), dtype=float64, numpy=0.008129793315482194>,\n",
       " 13: <tf.Tensor: shape=(), dtype=float64, numpy=0.012076949321432055>,\n",
       " 14: <tf.Tensor: shape=(), dtype=float64, numpy=0.02251470156209572>,\n",
       " 15: <tf.Tensor: shape=(), dtype=float64, numpy=0.051471363822857885>,\n",
       " 16: <tf.Tensor: shape=(), dtype=float64, numpy=0.03795299169764946>,\n",
       " 17: <tf.Tensor: shape=(), dtype=float64, numpy=0.05334915457406386>,\n",
       " 18: <tf.Tensor: shape=(), dtype=float64, numpy=0.050326534056628604>,\n",
       " 19: <tf.Tensor: shape=(), dtype=float64, numpy=0.05353944557959681>,\n",
       " 20: <tf.Tensor: shape=(), dtype=float64, numpy=0.055810134412903216>}"
      ]
     },
     "execution_count": 8,
     "metadata": {},
     "output_type": "execute_result"
    }
   ],
   "source": [
    "error_dict_linear"
   ]
  },
  {
   "cell_type": "code",
   "execution_count": 10,
   "metadata": {
    "scrolled": true
   },
   "outputs": [
    {
     "name": "stdout",
     "output_type": "stream",
     "text": [
      "1 tf.Tensor(3.278905082135191e-05, shape=(), dtype=float64)\n",
      "2 tf.Tensor(2.5633582879570175e-05, shape=(), dtype=float64)\n",
      "3 tf.Tensor(2.9613227154787828e-05, shape=(), dtype=float64)\n",
      "4 tf.Tensor(3.9801635056225645e-05, shape=(), dtype=float64)\n",
      "5 tf.Tensor(6.716979665473787e-05, shape=(), dtype=float64)\n",
      "6 tf.Tensor(0.00011178818625257966, shape=(), dtype=float64)\n",
      "7 tf.Tensor(0.00019186508112256878, shape=(), dtype=float64)\n",
      "8 tf.Tensor(0.00030470014700633607, shape=(), dtype=float64)\n",
      "9 tf.Tensor(0.0003726005966256546, shape=(), dtype=float64)\n",
      "10 tf.Tensor(0.0007911304317571705, shape=(), dtype=float64)\n",
      "11 tf.Tensor(0.003645823363415544, shape=(), dtype=float64)\n",
      "12 tf.Tensor(0.012947464952680293, shape=(), dtype=float64)\n",
      "13 tf.Tensor(0.01204965978683174, shape=(), dtype=float64)\n",
      "14 tf.Tensor(0.02219498446794624, shape=(), dtype=float64)\n",
      "15 tf.Tensor(0.04433602497840522, shape=(), dtype=float64)\n",
      "16 tf.Tensor(0.037995885348572386, shape=(), dtype=float64)\n",
      "17 tf.Tensor(0.04584352292846525, shape=(), dtype=float64)\n",
      "18 tf.Tensor(0.048294773283551695, shape=(), dtype=float64)\n",
      "19 tf.Tensor(0.055201464920750405, shape=(), dtype=float64)\n",
      "20 tf.Tensor(0.06531988276616293, shape=(), dtype=float64)\n"
     ]
    }
   ],
   "source": [
    "error_dict_relu = {}\n",
    "for i in range(1, 21):\n",
    "    file = f'../data/saturation/datasets/dataScaleFree_10_10_{i}_16000_U.txt'\n",
    "    data = pd.read_table(file, sep=' ', header=None)\n",
    "    \n",
    "    X = data.iloc[:, :100]\n",
    "    y = data.iloc[:, 100:200]\n",
    "    \n",
    "    X_train, X_test, y_train, y_test = train_test_split(X, y, test_size=0.2, random_state=42)\n",
    "    X_train, X_val, y_train, y_val = train_test_split(X_train, y_train, test_size=0.2 / 0.8, random_state=42)\n",
    "    \n",
    "    X_train = np.array(X_train)\n",
    "    y_train = np.array(y_train)\n",
    "\n",
    "    X_val = np.array(X_val)\n",
    "    y_val = np.array(y_val)\n",
    "\n",
    "    X_test = np.array(X_test)\n",
    "    y_test = np.array(y_test)\n",
    "    \n",
    "    model = tf.keras.models.Sequential([\n",
    "      tf.keras.layers.Dense(100, \n",
    "                            input_shape=(100,), \n",
    "                            activation='sigmoid',\n",
    "                            kernel_regularizer=tf.keras.regularizers.l2(0.00003)),\n",
    "      tf.keras.layers.Dense(100, \n",
    "                            activation='linear',\n",
    "                            kernel_regularizer=tf.keras.regularizers.l2(0.00003))\n",
    "    ])\n",
    "\n",
    "    model.compile(optimizer='adam',\n",
    "                  loss=custom_loss)\n",
    "\n",
    "    callback = tf.keras.callbacks.EarlyStopping(monitor='val_loss', patience=5)\n",
    "    model.fit(X_train, \n",
    "              y_train, \n",
    "              epochs=7500000, \n",
    "              callbacks=[callback], \n",
    "              validation_data=(X_val, y_val),\n",
    "              verbose=0)\n",
    "    \n",
    "    test_error = custom_loss(y_test, model.predict(X_test))\n",
    "    print(i, test_error)\n",
    "    error_dict_relu[i] = test_error"
   ]
  },
  {
   "cell_type": "code",
   "execution_count": 11,
   "metadata": {
    "scrolled": true
   },
   "outputs": [
    {
     "data": {
      "text/plain": [
       "{1: <tf.Tensor: shape=(), dtype=float64, numpy=3.278905082135191e-05>,\n",
       " 2: <tf.Tensor: shape=(), dtype=float64, numpy=2.5633582879570175e-05>,\n",
       " 3: <tf.Tensor: shape=(), dtype=float64, numpy=2.9613227154787828e-05>,\n",
       " 4: <tf.Tensor: shape=(), dtype=float64, numpy=3.9801635056225645e-05>,\n",
       " 5: <tf.Tensor: shape=(), dtype=float64, numpy=6.716979665473787e-05>,\n",
       " 6: <tf.Tensor: shape=(), dtype=float64, numpy=0.00011178818625257966>,\n",
       " 7: <tf.Tensor: shape=(), dtype=float64, numpy=0.00019186508112256878>,\n",
       " 8: <tf.Tensor: shape=(), dtype=float64, numpy=0.00030470014700633607>,\n",
       " 9: <tf.Tensor: shape=(), dtype=float64, numpy=0.0003726005966256546>,\n",
       " 10: <tf.Tensor: shape=(), dtype=float64, numpy=0.0007911304317571705>,\n",
       " 11: <tf.Tensor: shape=(), dtype=float64, numpy=0.003645823363415544>,\n",
       " 12: <tf.Tensor: shape=(), dtype=float64, numpy=0.012947464952680293>,\n",
       " 13: <tf.Tensor: shape=(), dtype=float64, numpy=0.01204965978683174>,\n",
       " 14: <tf.Tensor: shape=(), dtype=float64, numpy=0.02219498446794624>,\n",
       " 15: <tf.Tensor: shape=(), dtype=float64, numpy=0.04433602497840522>,\n",
       " 16: <tf.Tensor: shape=(), dtype=float64, numpy=0.037995885348572386>,\n",
       " 17: <tf.Tensor: shape=(), dtype=float64, numpy=0.04584352292846525>,\n",
       " 18: <tf.Tensor: shape=(), dtype=float64, numpy=0.048294773283551695>,\n",
       " 19: <tf.Tensor: shape=(), dtype=float64, numpy=0.055201464920750405>,\n",
       " 20: <tf.Tensor: shape=(), dtype=float64, numpy=0.06531988276616293>}"
      ]
     },
     "execution_count": 11,
     "metadata": {},
     "output_type": "execute_result"
    }
   ],
   "source": [
    "error_dict_relu"
   ]
  },
  {
   "cell_type": "code",
   "execution_count": 12,
   "metadata": {},
   "outputs": [
    {
     "name": "stdout",
     "output_type": "stream",
     "text": [
      "2000/2000 [==============================] - 0s 21us/sample - loss: 0.1099\n"
     ]
    },
    {
     "data": {
      "text/plain": [
       "0.10985002046823501"
      ]
     },
     "execution_count": 12,
     "metadata": {},
     "output_type": "execute_result"
    }
   ],
   "source": [
    "model.evaluate(X_test, y_test)"
   ]
  },
  {
   "cell_type": "markdown",
   "metadata": {},
   "source": [
    "## Two layer model"
   ]
  },
  {
   "cell_type": "code",
   "execution_count": 13,
   "metadata": {
    "scrolled": true
   },
   "outputs": [
    {
     "name": "stdout",
     "output_type": "stream",
     "text": [
      "1 tf.Tensor(0.00013990959980269465, shape=(), dtype=float64)\n",
      "2 tf.Tensor(0.0003660621983379973, shape=(), dtype=float64)\n",
      "3 tf.Tensor(0.0005026711147035163, shape=(), dtype=float64)\n",
      "4 tf.Tensor(0.0003041467928288316, shape=(), dtype=float64)\n",
      "5 tf.Tensor(7.405233135075284e-05, shape=(), dtype=float64)\n",
      "6 tf.Tensor(0.0002625547438688514, shape=(), dtype=float64)\n",
      "7 tf.Tensor(0.00031916447846437796, shape=(), dtype=float64)\n",
      "8 tf.Tensor(0.0004150415781481473, shape=(), dtype=float64)\n",
      "9 tf.Tensor(0.0008355082006875345, shape=(), dtype=float64)\n",
      "10 tf.Tensor(0.0017411386861240308, shape=(), dtype=float64)\n",
      "11 tf.Tensor(0.004620596526103397, shape=(), dtype=float64)\n",
      "12 tf.Tensor(0.005432119973860152, shape=(), dtype=float64)\n",
      "13 tf.Tensor(0.007628568360755449, shape=(), dtype=float64)\n",
      "14 tf.Tensor(0.016706567943234947, shape=(), dtype=float64)\n",
      "15 tf.Tensor(0.028487326130132225, shape=(), dtype=float64)\n",
      "16 tf.Tensor(0.027147664222138636, shape=(), dtype=float64)\n",
      "17 tf.Tensor(0.0185612216369291, shape=(), dtype=float64)\n",
      "18 tf.Tensor(0.02568017967464054, shape=(), dtype=float64)\n",
      "19 tf.Tensor(0.030737060017730484, shape=(), dtype=float64)\n",
      "20 tf.Tensor(0.02747218523318903, shape=(), dtype=float64)\n"
     ]
    }
   ],
   "source": [
    "error_dict2 = {}\n",
    "for i in range(1, 21):\n",
    "    file = f'../data/saturation/datasets/dataScaleFree_10_10_{i}_16000_U.txt'\n",
    "    data = pd.read_table(file, sep=' ', header=None)\n",
    "    \n",
    "    X = data.iloc[:, :100]\n",
    "    y = data.iloc[:, 100:200]\n",
    "    \n",
    "    X_train, X_test, y_train, y_test = train_test_split(X, y, test_size=0.2, random_state=42)\n",
    "    X_train, X_val, y_train, y_val = train_test_split(X_train, y_train, test_size=0.2 / 0.8, random_state=42)\n",
    "    \n",
    "    X_train = np.array(X_train)\n",
    "    y_train = np.array(y_train)\n",
    "\n",
    "    X_val = np.array(X_val)\n",
    "    y_val = np.array(y_val)\n",
    "\n",
    "    X_test = np.array(X_test)\n",
    "    y_test = np.array(y_test)\n",
    "    \n",
    "    model = tf.keras.models.Sequential([\n",
    "        tf.keras.layers.Dense(100, \n",
    "                              input_shape=(100,), \n",
    "                              activation='sigmoid',\n",
    "                              kernel_regularizer=tf.keras.regularizers.l2(0.00003)),\n",
    "        tf.keras.layers.Dense(100, \n",
    "                              input_shape=(100,), \n",
    "                              activation='sigmoid',\n",
    "                              kernel_regularizer=tf.keras.regularizers.l2(0.00003)),\n",
    "        tf.keras.layers.Dense(100, \n",
    "                              activation='relu',\n",
    "                              kernel_regularizer=tf.keras.regularizers.l2(0.00003))\n",
    "    ])\n",
    "\n",
    "    model.compile(optimizer='adam',\n",
    "                  loss='mean_squared_error')\n",
    "\n",
    "    callback = tf.keras.callbacks.EarlyStopping(monitor='val_loss', patience=5)\n",
    "    model.fit(X_train, \n",
    "              y_train, \n",
    "              epochs=7500000, \n",
    "              callbacks=[callback], \n",
    "              validation_data=(X_val, y_val),\n",
    "              verbose=0)\n",
    "    \n",
    "    test_error = custom_loss(y_test, model.predict(X_test))\n",
    "    print(i, test_error)\n",
    "    error_dict2[i] = test_error"
   ]
  },
  {
   "cell_type": "code",
   "execution_count": 14,
   "metadata": {
    "scrolled": true
   },
   "outputs": [
    {
     "data": {
      "text/plain": [
       "{1: <tf.Tensor: shape=(), dtype=float64, numpy=0.00013990959980269465>,\n",
       " 2: <tf.Tensor: shape=(), dtype=float64, numpy=0.0003660621983379973>,\n",
       " 3: <tf.Tensor: shape=(), dtype=float64, numpy=0.0005026711147035163>,\n",
       " 4: <tf.Tensor: shape=(), dtype=float64, numpy=0.0003041467928288316>,\n",
       " 5: <tf.Tensor: shape=(), dtype=float64, numpy=7.405233135075284e-05>,\n",
       " 6: <tf.Tensor: shape=(), dtype=float64, numpy=0.0002625547438688514>,\n",
       " 7: <tf.Tensor: shape=(), dtype=float64, numpy=0.00031916447846437796>,\n",
       " 8: <tf.Tensor: shape=(), dtype=float64, numpy=0.0004150415781481473>,\n",
       " 9: <tf.Tensor: shape=(), dtype=float64, numpy=0.0008355082006875345>,\n",
       " 10: <tf.Tensor: shape=(), dtype=float64, numpy=0.0017411386861240308>,\n",
       " 11: <tf.Tensor: shape=(), dtype=float64, numpy=0.004620596526103397>,\n",
       " 12: <tf.Tensor: shape=(), dtype=float64, numpy=0.005432119973860152>,\n",
       " 13: <tf.Tensor: shape=(), dtype=float64, numpy=0.007628568360755449>,\n",
       " 14: <tf.Tensor: shape=(), dtype=float64, numpy=0.016706567943234947>,\n",
       " 15: <tf.Tensor: shape=(), dtype=float64, numpy=0.028487326130132225>,\n",
       " 16: <tf.Tensor: shape=(), dtype=float64, numpy=0.027147664222138636>,\n",
       " 17: <tf.Tensor: shape=(), dtype=float64, numpy=0.0185612216369291>,\n",
       " 18: <tf.Tensor: shape=(), dtype=float64, numpy=0.02568017967464054>,\n",
       " 19: <tf.Tensor: shape=(), dtype=float64, numpy=0.030737060017730484>,\n",
       " 20: <tf.Tensor: shape=(), dtype=float64, numpy=0.02747218523318903>}"
      ]
     },
     "execution_count": 14,
     "metadata": {},
     "output_type": "execute_result"
    }
   ],
   "source": [
    "error_dict2"
   ]
  },
  {
   "cell_type": "markdown",
   "metadata": {},
   "source": [
    "## Ploting"
   ]
  },
  {
   "cell_type": "code",
   "execution_count": 15,
   "metadata": {},
   "outputs": [],
   "source": [
    "x = [x / 10 for x in range(1, 21)]\n",
    "y1 = [x.numpy() for x in error_dict_relu.values()]\n",
    "y2 = [x.numpy() for x in error_dict2.values()]"
   ]
  },
  {
   "cell_type": "code",
   "execution_count": 16,
   "metadata": {},
   "outputs": [
    {
     "data": {
      "image/png": "[encoded data removed]",
      "text/plain": [
       "<Figure size 576x360 with 1 Axes>"
      ]
     },
     "metadata": {
      "needs_background": "light"
     },
     "output_type": "display_data"
    }
   ],
   "source": [
    "plt.figure(figsize=(8, 5))\n",
    "\n",
    "plt.plot(x, y1, label='One Hidden Layer')\n",
    "plt.plot(x, y2, label='Two Hidden Layers')\n",
    "\n",
    "plt.xlabel('Traffic [normalized by link capacity]')\n",
    "plt.ylabel('Learning Error [MSE]')\n",
    "\n",
    "plt.legend()\n",
    "plt.savefig('../plots/01_error_x_saturation.png')"
   ]
  },
  {
   "cell_type": "markdown",
   "metadata": {},
   "source": [
    "## Checking intervals"
   ]
  },
  {
   "cell_type": "code",
   "execution_count": 17,
   "metadata": {
    "scrolled": true
   },
   "outputs": [
    {
     "data": {
      "text/html": [
       "<div>\n",
       "<style scoped>\n",
       "    .dataframe tbody tr th:only-of-type {\n",
       "        vertical-align: middle;\n",
       "    }\n",
       "\n",
       "    .dataframe tbody tr th {\n",
       "        vertical-align: top;\n",
       "    }\n",
       "\n",
       "    .dataframe thead th {\n",
       "        text-align: right;\n",
       "    }\n",
       "</style>\n",
       "<table border=\"1\" class=\"dataframe\">\n",
       "  <thead>\n",
       "    <tr style=\"text-align: right;\">\n",
       "      <th></th>\n",
       "      <th>rho</th>\n",
       "      <th>x_max</th>\n",
       "      <th>x_mean</th>\n",
       "      <th>y_max</th>\n",
       "      <th>y_mean</th>\n",
       "      <th>y_std</th>\n",
       "    </tr>\n",
       "  </thead>\n",
       "  <tbody>\n",
       "    <tr>\n",
       "      <th>0</th>\n",
       "      <td>0.1</td>\n",
       "      <td>0.111968</td>\n",
       "      <td>0.049516</td>\n",
       "      <td>0.358420</td>\n",
       "      <td>0.185908</td>\n",
       "      <td>0.095086</td>\n",
       "    </tr>\n",
       "    <tr>\n",
       "      <th>1</th>\n",
       "      <td>0.2</td>\n",
       "      <td>0.215322</td>\n",
       "      <td>0.099019</td>\n",
       "      <td>0.364855</td>\n",
       "      <td>0.192514</td>\n",
       "      <td>0.098748</td>\n",
       "    </tr>\n",
       "    <tr>\n",
       "      <th>2</th>\n",
       "      <td>0.3</td>\n",
       "      <td>0.318192</td>\n",
       "      <td>0.148527</td>\n",
       "      <td>0.375845</td>\n",
       "      <td>0.199860</td>\n",
       "      <td>0.102907</td>\n",
       "    </tr>\n",
       "    <tr>\n",
       "      <th>3</th>\n",
       "      <td>0.4</td>\n",
       "      <td>0.421877</td>\n",
       "      <td>0.198034</td>\n",
       "      <td>0.390543</td>\n",
       "      <td>0.208116</td>\n",
       "      <td>0.107659</td>\n",
       "    </tr>\n",
       "    <tr>\n",
       "      <th>4</th>\n",
       "      <td>0.5</td>\n",
       "      <td>0.524417</td>\n",
       "      <td>0.247543</td>\n",
       "      <td>0.426717</td>\n",
       "      <td>0.217502</td>\n",
       "      <td>0.113163</td>\n",
       "    </tr>\n",
       "    <tr>\n",
       "      <th>5</th>\n",
       "      <td>0.6</td>\n",
       "      <td>0.626015</td>\n",
       "      <td>0.297045</td>\n",
       "      <td>0.482026</td>\n",
       "      <td>0.228317</td>\n",
       "      <td>0.119664</td>\n",
       "    </tr>\n",
       "    <tr>\n",
       "      <th>6</th>\n",
       "      <td>0.7</td>\n",
       "      <td>0.725241</td>\n",
       "      <td>0.346550</td>\n",
       "      <td>0.571421</td>\n",
       "      <td>0.241014</td>\n",
       "      <td>0.127557</td>\n",
       "    </tr>\n",
       "    <tr>\n",
       "      <th>7</th>\n",
       "      <td>0.8</td>\n",
       "      <td>0.827174</td>\n",
       "      <td>0.396054</td>\n",
       "      <td>0.747965</td>\n",
       "      <td>0.256278</td>\n",
       "      <td>0.137532</td>\n",
       "    </tr>\n",
       "    <tr>\n",
       "      <th>8</th>\n",
       "      <td>0.9</td>\n",
       "      <td>0.930638</td>\n",
       "      <td>0.445563</td>\n",
       "      <td>1.273670</td>\n",
       "      <td>0.275305</td>\n",
       "      <td>0.151041</td>\n",
       "    </tr>\n",
       "    <tr>\n",
       "      <th>9</th>\n",
       "      <td>1.0</td>\n",
       "      <td>1.030120</td>\n",
       "      <td>0.495070</td>\n",
       "      <td>2.578770</td>\n",
       "      <td>0.300568</td>\n",
       "      <td>0.172525</td>\n",
       "    </tr>\n",
       "    <tr>\n",
       "      <th>10</th>\n",
       "      <td>1.1</td>\n",
       "      <td>1.130690</td>\n",
       "      <td>0.544577</td>\n",
       "      <td>3.356310</td>\n",
       "      <td>0.338255</td>\n",
       "      <td>0.219208</td>\n",
       "    </tr>\n",
       "    <tr>\n",
       "      <th>11</th>\n",
       "      <td>1.2</td>\n",
       "      <td>1.233500</td>\n",
       "      <td>0.594085</td>\n",
       "      <td>3.660110</td>\n",
       "      <td>0.401307</td>\n",
       "      <td>0.325795</td>\n",
       "    </tr>\n",
       "    <tr>\n",
       "      <th>12</th>\n",
       "      <td>1.3</td>\n",
       "      <td>1.329990</td>\n",
       "      <td>0.643591</td>\n",
       "      <td>5.007780</td>\n",
       "      <td>0.505102</td>\n",
       "      <td>0.502149</td>\n",
       "    </tr>\n",
       "    <tr>\n",
       "      <th>13</th>\n",
       "      <td>1.4</td>\n",
       "      <td>1.432990</td>\n",
       "      <td>0.693095</td>\n",
       "      <td>5.936060</td>\n",
       "      <td>0.655999</td>\n",
       "      <td>0.719182</td>\n",
       "    </tr>\n",
       "    <tr>\n",
       "      <th>14</th>\n",
       "      <td>1.5</td>\n",
       "      <td>1.532820</td>\n",
       "      <td>0.742602</td>\n",
       "      <td>7.572240</td>\n",
       "      <td>0.850596</td>\n",
       "      <td>0.946766</td>\n",
       "    </tr>\n",
       "    <tr>\n",
       "      <th>15</th>\n",
       "      <td>1.6</td>\n",
       "      <td>1.632800</td>\n",
       "      <td>0.792109</td>\n",
       "      <td>8.581820</td>\n",
       "      <td>1.084726</td>\n",
       "      <td>1.173437</td>\n",
       "    </tr>\n",
       "    <tr>\n",
       "      <th>16</th>\n",
       "      <td>1.7</td>\n",
       "      <td>1.732940</td>\n",
       "      <td>0.841618</td>\n",
       "      <td>9.055070</td>\n",
       "      <td>1.354556</td>\n",
       "      <td>1.396977</td>\n",
       "    </tr>\n",
       "    <tr>\n",
       "      <th>17</th>\n",
       "      <td>1.8</td>\n",
       "      <td>1.832920</td>\n",
       "      <td>0.891123</td>\n",
       "      <td>9.302840</td>\n",
       "      <td>1.651897</td>\n",
       "      <td>1.612243</td>\n",
       "    </tr>\n",
       "    <tr>\n",
       "      <th>18</th>\n",
       "      <td>1.9</td>\n",
       "      <td>1.935410</td>\n",
       "      <td>0.940632</td>\n",
       "      <td>9.435340</td>\n",
       "      <td>1.963414</td>\n",
       "      <td>1.811647</td>\n",
       "    </tr>\n",
       "    <tr>\n",
       "      <th>19</th>\n",
       "      <td>2.0</td>\n",
       "      <td>2.034480</td>\n",
       "      <td>0.990138</td>\n",
       "      <td>9.580650</td>\n",
       "      <td>2.272906</td>\n",
       "      <td>1.988742</td>\n",
       "    </tr>\n",
       "  </tbody>\n",
       "</table>\n",
       "</div>"
      ],
      "text/plain": [
       "    rho     x_max    x_mean     y_max    y_mean     y_std\n",
       "0   0.1  0.111968  0.049516  0.358420  0.185908  0.095086\n",
       "1   0.2  0.215322  0.099019  0.364855  0.192514  0.098748\n",
       "2   0.3  0.318192  0.148527  0.375845  0.199860  0.102907\n",
       "3   0.4  0.421877  0.198034  0.390543  0.208116  0.107659\n",
       "4   0.5  0.524417  0.247543  0.426717  0.217502  0.113163\n",
       "5   0.6  0.626015  0.297045  0.482026  0.228317  0.119664\n",
       "6   0.7  0.725241  0.346550  0.571421  0.241014  0.127557\n",
       "7   0.8  0.827174  0.396054  0.747965  0.256278  0.137532\n",
       "8   0.9  0.930638  0.445563  1.273670  0.275305  0.151041\n",
       "9   1.0  1.030120  0.495070  2.578770  0.300568  0.172525\n",
       "10  1.1  1.130690  0.544577  3.356310  0.338255  0.219208\n",
       "11  1.2  1.233500  0.594085  3.660110  0.401307  0.325795\n",
       "12  1.3  1.329990  0.643591  5.007780  0.505102  0.502149\n",
       "13  1.4  1.432990  0.693095  5.936060  0.655999  0.719182\n",
       "14  1.5  1.532820  0.742602  7.572240  0.850596  0.946766\n",
       "15  1.6  1.632800  0.792109  8.581820  1.084726  1.173437\n",
       "16  1.7  1.732940  0.841618  9.055070  1.354556  1.396977\n",
       "17  1.8  1.832920  0.891123  9.302840  1.651897  1.612243\n",
       "18  1.9  1.935410  0.940632  9.435340  1.963414  1.811647\n",
       "19  2.0  2.034480  0.990138  9.580650  2.272906  1.988742"
      ]
     },
     "execution_count": 17,
     "metadata": {},
     "output_type": "execute_result"
    }
   ],
   "source": [
    "error_dict = {}\n",
    "max_mean = pd.DataFrame(columns=['rho', 'x_max', 'x_mean', 'y_max', 'y_mean', 'y_std'])\n",
    "for i in range(1, 21):\n",
    "    file = f'../data/saturation/datasets/dataScaleFree_10_10_{i}_16000_U.txt'\n",
    "    data = pd.read_table(file, sep=' ', header=None)\n",
    "    \n",
    "    X = data.iloc[:, :100]\n",
    "    y = data.iloc[:, 100:200]\n",
    "    rho = i/10\n",
    "    x_max = np.max(np.array(X))\n",
    "    x_mean = np.mean(np.array(X))\n",
    "    y_max = np.max(np.array(y))\n",
    "    y_mean = np.mean(np.array(y))\n",
    "    y_std = np.std(np.array(y))\n",
    "    max_mean.loc[i - 1] = [rho, x_max, x_mean, y_max, y_mean, y_std]\n",
    "max_mean    "
   ]
  },
  {
   "cell_type": "code",
   "execution_count": 18,
   "metadata": {},
   "outputs": [
    {
     "name": "stderr",
     "output_type": "stream",
     "text": [
      "No handles with labels found to put in legend.\n"
     ]
    },
    {
     "data": {
      "image/png": "[encoded data removed]",
      "text/plain": [
       "<Figure size 576x360 with 1 Axes>"
      ]
     },
     "metadata": {
      "needs_background": "light"
     },
     "output_type": "display_data"
    }
   ],
   "source": [
    "plt.figure(figsize=(8, 5))\n",
    "\n",
    "x = max_mean.rho\n",
    "y = max_mean.y_mean\n",
    "y_std = max_mean.y_std\n",
    "plt.plot(x, y)\n",
    "\n",
    "plt.fill_between(x, y - y_std, y + y_std, alpha=0.5)\n",
    "\n",
    "plt.xlabel('Traffic [normalized by link capacity]')\n",
    "plt.ylabel('Average Delay')\n",
    "\n",
    "plt.legend()\n",
    "plt.savefig('../plots/01_avgdelay_x_saturation.png')"
   ]
  }
 ],
 "metadata": {
  "kernelspec": {
   "display_name": "Python 3",
   "language": "python",
   "name": "python3"
  },
  "language_info": {
   "codemirror_mode": {
    "name": "ipython",
    "version": 3
   },
   "file_extension": ".py",
   "mimetype": "text/x-python",
   "name": "python",
   "nbconvert_exporter": "python",
   "pygments_lexer": "ipython3",
   "version": "3.6.9"
  }
 },
 "nbformat": 4,
 "nbformat_minor": 4
}
